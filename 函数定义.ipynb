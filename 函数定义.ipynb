{
 "cells": [
  {
   "cell_type": "markdown",
   "id": "5611cb7e-fdec-488c-b8e7-bc4e2a676bb5",
   "metadata": {},
   "source": [
    "# 函数定义详解"
   ]
  },
  {
   "cell_type": "markdown",
   "id": "26402b25-2fc8-4800-bfd1-2f0523dfdc65",
   "metadata": {},
   "source": [
    "## 1. 默认值参数"
   ]
  },
  {
   "cell_type": "code",
   "execution_count": 1,
   "id": "a8abd1d2-e6b8-4102-9ab0-d35e96c5680b",
   "metadata": {},
   "outputs": [],
   "source": [
    "def ask_ok(prompt, retries=4, reminder=\"Please try again!\"):\n",
    "    while True:\n",
    "        reply = input(prompt)\n",
    "        if reply in {\"y\", \"ye\", \"yes\"}:\n",
    "            return True\n",
    "        if reply in {\"n\", \"no\", \"nop\", \"nope\"}:\n",
    "            return False\n",
    "        retries = retries -1\n",
    "        if retries < 0:\n",
    "            raise ValueError(\"invalid user response\")\n",
    "        print(reminder)"
   ]
  },
  {
   "cell_type": "markdown",
   "id": "9ba560b5-a44d-45ad-9eb8-5e68314f3857",
   "metadata": {},
   "source": [
    "为参数指定默认值,可以在调用函数时,使用比函数定义更少的参数:"
   ]
  },
  {
   "cell_type": "markdown",
   "id": "cd2342eb-0129-4873-8a7c-d4d01caf8ffa",
   "metadata": {},
   "source": [
    "- 只给出必选实参"
   ]
  },
  {
   "cell_type": "code",
   "execution_count": 2,
   "id": "04247807-466b-4bac-b895-4b479fbd5d50",
   "metadata": {},
   "outputs": [
    {
     "name": "stdin",
     "output_type": "stream",
     "text": [
      "Do you really want to quit? ewq\n"
     ]
    },
    {
     "name": "stdout",
     "output_type": "stream",
     "text": [
      "Please try again!\n"
     ]
    },
    {
     "name": "stdin",
     "output_type": "stream",
     "text": [
      "Do you really want to quit? ewq\n"
     ]
    },
    {
     "name": "stdout",
     "output_type": "stream",
     "text": [
      "Please try again!\n"
     ]
    },
    {
     "name": "stdin",
     "output_type": "stream",
     "text": [
      "Do you really want to quit? eq\n"
     ]
    },
    {
     "name": "stdout",
     "output_type": "stream",
     "text": [
      "Please try again!\n"
     ]
    },
    {
     "name": "stdin",
     "output_type": "stream",
     "text": [
      "Do you really want to quit? eq\n"
     ]
    },
    {
     "name": "stdout",
     "output_type": "stream",
     "text": [
      "Please try again!\n"
     ]
    },
    {
     "name": "stdin",
     "output_type": "stream",
     "text": [
      "Do you really want to quit? eq\n"
     ]
    },
    {
     "ename": "ValueError",
     "evalue": "invalid user response",
     "output_type": "error",
     "traceback": [
      "\u001b[31m---------------------------------------------------------------------------\u001b[39m",
      "\u001b[31mValueError\u001b[39m                                Traceback (most recent call last)",
      "\u001b[36mCell\u001b[39m\u001b[36m \u001b[39m\u001b[32mIn[2]\u001b[39m\u001b[32m, line 1\u001b[39m\n\u001b[32m----> \u001b[39m\u001b[32m1\u001b[39m \u001b[43mask_ok\u001b[49m\u001b[43m(\u001b[49m\u001b[33;43m'\u001b[39;49m\u001b[33;43mDo you really want to quit?\u001b[39;49m\u001b[33;43m'\u001b[39;49m\u001b[43m)\u001b[49m\n",
      "\u001b[36mCell\u001b[39m\u001b[36m \u001b[39m\u001b[32mIn[1]\u001b[39m\u001b[32m, line 10\u001b[39m, in \u001b[36mask_ok\u001b[39m\u001b[34m(prompt, retries, reminder)\u001b[39m\n\u001b[32m      8\u001b[39m retries = retries -\u001b[32m1\u001b[39m\n\u001b[32m      9\u001b[39m \u001b[38;5;28;01mif\u001b[39;00m retries < \u001b[32m0\u001b[39m:\n\u001b[32m---> \u001b[39m\u001b[32m10\u001b[39m     \u001b[38;5;28;01mraise\u001b[39;00m \u001b[38;5;167;01mValueError\u001b[39;00m(\u001b[33m\"\u001b[39m\u001b[33minvalid user response\u001b[39m\u001b[33m\"\u001b[39m)\n\u001b[32m     11\u001b[39m \u001b[38;5;28mprint\u001b[39m(reminder)\n",
      "\u001b[31mValueError\u001b[39m: invalid user response"
     ]
    }
   ],
   "source": [
    "ask_ok('Do you really want to quit?')"
   ]
  },
  {
   "cell_type": "markdown",
   "id": "388e3160-c58e-40d2-b832-b1e5a508e8c7",
   "metadata": {},
   "source": [
    "- 只给出一个可选实参"
   ]
  },
  {
   "cell_type": "code",
   "execution_count": 4,
   "id": "ccd70a1e-d984-4a2d-8f9d-21d15f112c0f",
   "metadata": {},
   "outputs": [
    {
     "name": "stdin",
     "output_type": "stream",
     "text": [
      "Do you really want to quit? 1\n"
     ]
    },
    {
     "name": "stdout",
     "output_type": "stream",
     "text": [
      "Please try again!\n"
     ]
    },
    {
     "name": "stdin",
     "output_type": "stream",
     "text": [
      "Do you really want to quit? 1\n"
     ]
    },
    {
     "name": "stdout",
     "output_type": "stream",
     "text": [
      "Please try again!\n"
     ]
    },
    {
     "name": "stdin",
     "output_type": "stream",
     "text": [
      "Do you really want to quit? 1\n"
     ]
    },
    {
     "ename": "ValueError",
     "evalue": "invalid user response",
     "output_type": "error",
     "traceback": [
      "\u001b[31m---------------------------------------------------------------------------\u001b[39m",
      "\u001b[31mValueError\u001b[39m                                Traceback (most recent call last)",
      "\u001b[36mCell\u001b[39m\u001b[36m \u001b[39m\u001b[32mIn[4]\u001b[39m\u001b[32m, line 1\u001b[39m\n\u001b[32m----> \u001b[39m\u001b[32m1\u001b[39m \u001b[43mask_ok\u001b[49m\u001b[43m(\u001b[49m\u001b[33;43m'\u001b[39;49m\u001b[33;43mDo you really want to quit?\u001b[39;49m\u001b[33;43m'\u001b[39;49m\u001b[43m,\u001b[49m\u001b[43m \u001b[49m\u001b[32;43m2\u001b[39;49m\u001b[43m)\u001b[49m\n",
      "\u001b[36mCell\u001b[39m\u001b[36m \u001b[39m\u001b[32mIn[1]\u001b[39m\u001b[32m, line 10\u001b[39m, in \u001b[36mask_ok\u001b[39m\u001b[34m(prompt, retries, reminder)\u001b[39m\n\u001b[32m      8\u001b[39m retries = retries -\u001b[32m1\u001b[39m\n\u001b[32m      9\u001b[39m \u001b[38;5;28;01mif\u001b[39;00m retries < \u001b[32m0\u001b[39m:\n\u001b[32m---> \u001b[39m\u001b[32m10\u001b[39m     \u001b[38;5;28;01mraise\u001b[39;00m \u001b[38;5;167;01mValueError\u001b[39;00m(\u001b[33m\"\u001b[39m\u001b[33minvalid user response\u001b[39m\u001b[33m\"\u001b[39m)\n\u001b[32m     11\u001b[39m \u001b[38;5;28mprint\u001b[39m(reminder)\n",
      "\u001b[31mValueError\u001b[39m: invalid user response"
     ]
    }
   ],
   "source": [
    "ask_ok('Do you really want to quit?', 2)"
   ]
  },
  {
   "cell_type": "markdown",
   "id": "6d15a4d1-60f9-45dc-af45-8b953285a351",
   "metadata": {},
   "source": [
    "- 给出所有实参"
   ]
  },
  {
   "cell_type": "code",
   "execution_count": 5,
   "id": "12de4b26-f0f4-4d04-aec0-e4897bf7e27a",
   "metadata": {},
   "outputs": [
    {
     "name": "stdin",
     "output_type": "stream",
     "text": [
      "OK to overwrite the file? 1\n"
     ]
    },
    {
     "name": "stdout",
     "output_type": "stream",
     "text": [
      "Come on, only yes or no!\n"
     ]
    },
    {
     "name": "stdin",
     "output_type": "stream",
     "text": [
      "OK to overwrite the file? 1\n"
     ]
    },
    {
     "name": "stdout",
     "output_type": "stream",
     "text": [
      "Come on, only yes or no!\n"
     ]
    },
    {
     "name": "stdin",
     "output_type": "stream",
     "text": [
      "OK to overwrite the file? 1\n"
     ]
    },
    {
     "ename": "ValueError",
     "evalue": "invalid user response",
     "output_type": "error",
     "traceback": [
      "\u001b[31m---------------------------------------------------------------------------\u001b[39m",
      "\u001b[31mValueError\u001b[39m                                Traceback (most recent call last)",
      "\u001b[36mCell\u001b[39m\u001b[36m \u001b[39m\u001b[32mIn[5]\u001b[39m\u001b[32m, line 1\u001b[39m\n\u001b[32m----> \u001b[39m\u001b[32m1\u001b[39m \u001b[43mask_ok\u001b[49m\u001b[43m(\u001b[49m\u001b[33;43m'\u001b[39;49m\u001b[33;43mOK to overwrite the file?\u001b[39;49m\u001b[33;43m'\u001b[39;49m\u001b[43m,\u001b[49m\u001b[43m \u001b[49m\u001b[32;43m2\u001b[39;49m\u001b[43m,\u001b[49m\u001b[43m \u001b[49m\u001b[33;43m'\u001b[39;49m\u001b[33;43mCome on, only yes or no!\u001b[39;49m\u001b[33;43m'\u001b[39;49m\u001b[43m)\u001b[49m\n",
      "\u001b[36mCell\u001b[39m\u001b[36m \u001b[39m\u001b[32mIn[1]\u001b[39m\u001b[32m, line 10\u001b[39m, in \u001b[36mask_ok\u001b[39m\u001b[34m(prompt, retries, reminder)\u001b[39m\n\u001b[32m      8\u001b[39m retries = retries -\u001b[32m1\u001b[39m\n\u001b[32m      9\u001b[39m \u001b[38;5;28;01mif\u001b[39;00m retries < \u001b[32m0\u001b[39m:\n\u001b[32m---> \u001b[39m\u001b[32m10\u001b[39m     \u001b[38;5;28;01mraise\u001b[39;00m \u001b[38;5;167;01mValueError\u001b[39;00m(\u001b[33m\"\u001b[39m\u001b[33minvalid user response\u001b[39m\u001b[33m\"\u001b[39m)\n\u001b[32m     11\u001b[39m \u001b[38;5;28mprint\u001b[39m(reminder)\n",
      "\u001b[31mValueError\u001b[39m: invalid user response"
     ]
    }
   ],
   "source": [
    "ask_ok('OK to overwrite the file?', 2, 'Come on, only yes or no!')"
   ]
  },
  {
   "cell_type": "markdown",
   "id": "0b902a1f-77bd-42c3-8567-946a23bb545c",
   "metadata": {},
   "source": [
    "- **重要警告**"
   ]
  },
  {
   "cell_type": "markdown",
   "id": "222eb0ed-c645-4960-b249-459226fb15f6",
   "metadata": {},
   "source": [
    "- 默认参数在函数定义时求值,而不是调用时,默认值只计算一次,后续修改不影响默认值"
   ]
  },
  {
   "cell_type": "code",
   "execution_count": 7,
   "id": "10581a79-f41c-4920-b376-84812fd9cb92",
   "metadata": {},
   "outputs": [
    {
     "name": "stdout",
     "output_type": "stream",
     "text": [
      "5\n"
     ]
    }
   ],
   "source": [
    "i = 5\n",
    "\n",
    "def f(arg=i):  # 等价于 arg=5\n",
    "    print(arg)\n",
    "\n",
    "i = 6  # 此处修改不影响函数的默认参数\n",
    "f()"
   ]
  },
  {
   "cell_type": "markdown",
   "id": "ff1c2bc5-d25e-4eda-9efa-ece41a644315",
   "metadata": {},
   "source": [
    "- 对于可变对象可能导致意外的行为"
   ]
  },
  {
   "cell_type": "code",
   "execution_count": 9,
   "id": "d7dcb4d3-f4f4-4bca-9d41-be8ecba93bbe",
   "metadata": {},
   "outputs": [],
   "source": [
    "# 列表默认参数的陷阱\n",
    "\n",
    "def f(a, L=[]):\n",
    "    L.append(a)\n",
    "    return L"
   ]
  },
  {
   "cell_type": "code",
   "execution_count": 10,
   "id": "dc615abd-25ad-4f5c-ada3-6e0233183b5b",
   "metadata": {},
   "outputs": [
    {
     "name": "stdout",
     "output_type": "stream",
     "text": [
      "[1]\n",
      "[1, 2]\n"
     ]
    }
   ],
   "source": [
    "print(f(1))\n",
    "print(f(2))  # 使用的是同一个列表"
   ]
  },
  {
   "cell_type": "code",
   "execution_count": 12,
   "id": "e6ac8b20-3e5a-414a-8a02-29b2e00c1918",
   "metadata": {},
   "outputs": [],
   "source": [
    "# 避免参数的正确写法\n",
    "\n",
    "def f(a, L=None):\n",
    "    if L is None:\n",
    "        L = []\n",
    "    L.append(a)\n",
    "    return L        "
   ]
  },
  {
   "cell_type": "code",
   "execution_count": 13,
   "id": "1b28de50-5925-41e5-842c-e697cdadb274",
   "metadata": {},
   "outputs": [
    {
     "name": "stdout",
     "output_type": "stream",
     "text": [
      "[1]\n",
      "[2]\n"
     ]
    }
   ],
   "source": [
    "print(f(1))\n",
    "print(f(2))"
   ]
  },
  {
   "cell_type": "markdown",
   "id": "a1a2bead-b61d-426a-a075-d26fca174b5e",
   "metadata": {},
   "source": [
    "## 2. 关键字擦参数"
   ]
  },
  {
   "cell_type": "markdown",
   "id": "07f2c229-f1a1-431b-8647-21a71612f486",
   "metadata": {},
   "source": [
    "关键字参数采用 kwarg=value 形式,函数示例如下:"
   ]
  },
  {
   "cell_type": "code",
   "execution_count": 14,
   "id": "b5c9feca-66b3-4dcc-93fe-3a6aec1edc73",
   "metadata": {},
   "outputs": [],
   "source": [
    "def parrot(voltage, state='a stiff', action='voom', type='Norwegian Blue'):\n",
    "    print(\"-- This parrot would't\", action, end=' ')\n",
    "    print(\"if you put\", voltage, \"voltage through it\")\n",
    "    print(\"-- Lovely plumage, the\", type)\n",
    "    print(\"-- It's\", state, \"!\")"
   ]
  },
  {
   "cell_type": "markdown",
   "id": "7b3e32ab-0e75-4970-9744-7c19de31503d",
   "metadata": {},
   "source": [
    "该函数接受一个必选参数（voltage）和三个可选参数（state, action 和 type）。该函数可用下列方式调用："
   ]
  },
  {
   "cell_type": "code",
   "execution_count": 15,
   "id": "c6f5de0e-3129-44f9-94fd-3a7be102cd6b",
   "metadata": {},
   "outputs": [
    {
     "name": "stdout",
     "output_type": "stream",
     "text": [
      "-- This parrot would't voom if you put 1000 voltage through it\n",
      "-- Lovely plumage, the Norwegian Blue\n",
      "-- It's a stiff !\n"
     ]
    }
   ],
   "source": [
    "parrot(1000)  # 1个位置参数"
   ]
  },
  {
   "cell_type": "code",
   "execution_count": 16,
   "id": "2e5c001d-8e33-43a3-a5a1-43c905d5233c",
   "metadata": {},
   "outputs": [
    {
     "name": "stdout",
     "output_type": "stream",
     "text": [
      "-- This parrot would't voom if you put 1000 voltage through it\n",
      "-- Lovely plumage, the Norwegian Blue\n",
      "-- It's a stiff !\n"
     ]
    }
   ],
   "source": [
    "parrot(voltage=1000)  # 1个关键参数"
   ]
  },
  {
   "cell_type": "code",
   "execution_count": 17,
   "id": "1df3d7c2-d4c1-4d75-813f-79b456be683f",
   "metadata": {},
   "outputs": [
    {
     "name": "stdout",
     "output_type": "stream",
     "text": [
      "-- This parrot would't V00000M if you put 1000000 voltage through it\n",
      "-- Lovely plumage, the Norwegian Blue\n",
      "-- It's a stiff !\n"
     ]
    }
   ],
   "source": [
    "parrot(voltage=1000000, action=\"V00000M\")  # 2个关键字参数"
   ]
  },
  {
   "cell_type": "code",
   "execution_count": 18,
   "id": "7c8a3d96-d81a-410f-b20a-4f4b305880d9",
   "metadata": {},
   "outputs": [
    {
     "name": "stdout",
     "output_type": "stream",
     "text": [
      "-- This parrot would't VOOOOOM if you put 1000000 voltage through it\n",
      "-- Lovely plumage, the Norwegian Blue\n",
      "-- It's a stiff !\n"
     ]
    }
   ],
   "source": [
    "parrot(action='VOOOOOM', voltage=1000000)  # 2个关键字参数"
   ]
  },
  {
   "cell_type": "code",
   "execution_count": 19,
   "id": "95c61cce-42ef-438e-af0b-faea960511d6",
   "metadata": {},
   "outputs": [
    {
     "name": "stdout",
     "output_type": "stream",
     "text": [
      "-- This parrot would't jump if you put a million voltage through it\n",
      "-- Lovely plumage, the Norwegian Blue\n",
      "-- It's bereft of life !\n"
     ]
    }
   ],
   "source": [
    "parrot('a million', 'bereft of life', 'jump')  # 3个关键字参数"
   ]
  },
  {
   "cell_type": "code",
   "execution_count": 20,
   "id": "d3cfe810-cab4-461b-bbc0-b303fb2fadce",
   "metadata": {},
   "outputs": [
    {
     "name": "stdout",
     "output_type": "stream",
     "text": [
      "-- This parrot would't voom if you put a thousand voltage through it\n",
      "-- Lovely plumage, the Norwegian Blue\n",
      "-- It's pushing up the daisies !\n"
     ]
    }
   ],
   "source": [
    "parrot('a thousand', state='pushing up the daisies')  # 1 个位置参数，1 个关键字参数"
   ]
  },
  {
   "cell_type": "markdown",
   "id": "8fd85b11-db3b-4eda-9e0e-1e005381e6b6",
   "metadata": {},
   "source": [
    "函数调用时,关键字参数必须跟在位置参数后面.所有传递的关键字参数都必须匹配一个函数接受的参数,关键字参数的顺序并不重要。"
   ]
  },
  {
   "cell_type": "markdown",
   "id": "95746dd8-c6a9-4b47-b386-81dfe521d5ac",
   "metadata": {},
   "source": [
    "最后一个形参为 ****name** 形式时,接收一个字典,该字典包含与函数中已定义形参对应之外的所有关键字参数。"
   ]
  },
  {
   "cell_type": "code",
   "execution_count": 21,
   "id": "0bc430c4-5ef2-4773-8940-0427047e4a3b",
   "metadata": {},
   "outputs": [],
   "source": [
    "def cheeseshop(kind, **keywords):\n",
    "    print(\"-- Do you have any\", kind, \"?\")\n",
    "    print(\"-- I'm sorry, we are all out of\", kind)\n",
    "    for kw in keywords:\n",
    "        print(kw, \":\", keywords[kw])"
   ]
  },
  {
   "cell_type": "code",
   "execution_count": 22,
   "id": "009b31a5-6ee6-4503-91c5-3091d850a97a",
   "metadata": {},
   "outputs": [
    {
     "name": "stdout",
     "output_type": "stream",
     "text": [
      "-- Do you have any Limburger ?\n",
      "-- I'm sorry, we are all out of Limburger\n",
      "shopkeeper : Michael Palin\n",
      "client : John Cleese\n",
      "sketch : Cheese Shop Sketch\n"
     ]
    }
   ],
   "source": [
    "cheeseshop(\"Limburger\", \n",
    "           shopkeeper=\"Michael Palin\",\n",
    "           client=\"John Cleese\",\n",
    "           sketch=\"Cheese Shop Sketch\"\n",
    "          )"
   ]
  },
  {
   "cell_type": "markdown",
   "id": "34f1fabb-7930-4259-a145-0d4ac74755d8",
   "metadata": {},
   "source": [
    "***name** 形参接收一个元组,该元组包含形参列表之外的位置参数."
   ]
  },
  {
   "cell_type": "code",
   "execution_count": 23,
   "id": "260c50ff-2ae7-46d4-af5e-f363cda0a016",
   "metadata": {},
   "outputs": [],
   "source": [
    "def cheeseshop(kind, *arguments):\n",
    "    print(\"-- Do you have any\", kind, \"?\")\n",
    "    print(\"-- I'm sorry, we are all out of\", kind)\n",
    "    for arg in arguments:\n",
    "        print(arg)"
   ]
  },
  {
   "cell_type": "code",
   "execution_count": 24,
   "id": "2b76db0d-83e9-4b03-9eeb-c90f4f0b7e42",
   "metadata": {},
   "outputs": [
    {
     "name": "stdout",
     "output_type": "stream",
     "text": [
      "-- Do you have any Limburger ?\n",
      "-- I'm sorry, we are all out of Limburger\n",
      "It's very runny, sir.\n",
      "It's really very, VERY runny, sir.\n"
     ]
    }
   ],
   "source": [
    "cheeseshop(\"Limburger\", \n",
    "           \"It's very runny, sir.\",\n",
    "            \"It's really very, VERY runny, sir.\"\n",
    "          )"
   ]
  },
  {
   "cell_type": "markdown",
   "id": "c8e5a830-a28b-4007-ae0e-63bf0ee89737",
   "metadata": {},
   "source": [
    "## 3. 特殊参数"
   ]
  },
  {
   "cell_type": "markdown",
   "id": "d190c17e-5ded-4e09-a61f-08213e321bc5",
   "metadata": {},
   "source": [
    "默认情况下，参数可以按位置或显式关键字传递给 Python 函数。为了让代码易读、高效，最好限制参数的传递方式，这样，开发者只需查看函数定义，即可确定参数项是仅按位置、按位置或关键字，还是仅按关键字传递。函数定义如下:"
   ]
  },
  {
   "cell_type": "markdown",
   "id": "3a438130-054b-4dc3-a91e-9db2469614d1",
   "metadata": {},
   "source": [
    "def f(pos1, pos2, /, pos_or_kwd, *, kwd1, kwd2):\n",
    "      -----------    ----------     ----------\n",
    "        |             |                  |\n",
    "        |        位置或关键字   |\n",
    "        |                                - 仅限关键字\n",
    "         -- 仅限位置"
   ]
  },
  {
   "cell_type": "markdown",
   "id": "9f2cba68-534b-47bd-a891-f3b001cde3b6",
   "metadata": {},
   "source": [
    "/ 和 * 是可选的。这些符号表明形参如何把参数值传递给函数：位置、位置或关键字、关键字。关键字形参也叫作命名形参。"
   ]
  },
  {
   "cell_type": "markdown",
   "id": "2715076e-1456-465b-85ba-2a621e391c06",
   "metadata": {},
   "source": [
    "### 3.1 位置或关键字参数\n",
    "\n",
    "函数定义中未使用 / 和 * 时，参数可以按位置或关键字传递给函数。"
   ]
  },
  {
   "cell_type": "code",
   "execution_count": 25,
   "id": "1d674c2c-f3ee-4e01-9c89-27ed78c79fb6",
   "metadata": {},
   "outputs": [],
   "source": [
    "def standard_arg(arg):\n",
    "    print(arg)"
   ]
  },
  {
   "cell_type": "code",
   "execution_count": 27,
   "id": "47f42d20-0682-42f3-966a-b6f08c4e3d9c",
   "metadata": {},
   "outputs": [
    {
     "ename": "TypeError",
     "evalue": "standard_arg() takes 1 positional argument but 2 were given",
     "output_type": "error",
     "traceback": [
      "\u001b[31m---------------------------------------------------------------------------\u001b[39m",
      "\u001b[31mTypeError\u001b[39m                                 Traceback (most recent call last)",
      "\u001b[36mCell\u001b[39m\u001b[36m \u001b[39m\u001b[32mIn[27]\u001b[39m\u001b[32m, line 1\u001b[39m\n\u001b[32m----> \u001b[39m\u001b[32m1\u001b[39m \u001b[43mstandard_arg\u001b[49m\u001b[43m(\u001b[49m\u001b[32;43m1\u001b[39;49m\u001b[43m,\u001b[49m\u001b[43m \u001b[49m\u001b[32;43m2\u001b[39;49m\u001b[43m)\u001b[49m\n",
      "\u001b[31mTypeError\u001b[39m: standard_arg() takes 1 positional argument but 2 were given"
     ]
    }
   ],
   "source": [
    "standard_arg(1)"
   ]
  },
  {
   "cell_type": "code",
   "execution_count": 28,
   "id": "b5657e16-f618-4be6-8301-353616aed99b",
   "metadata": {},
   "outputs": [
    {
     "name": "stdout",
     "output_type": "stream",
     "text": [
      "1\n"
     ]
    }
   ],
   "source": [
    "standard_arg(arg=1)"
   ]
  },
  {
   "cell_type": "markdown",
   "id": "44a853fd-1e00-4235-af9b-2139baa737b6",
   "metadata": {},
   "source": [
    "### 3.2 仅限位置参数\n",
    "\n",
    "形参的顺序很重要，且这些形参不能用关键字传递。/ 用于在逻辑上分割仅限位置形参与其它形参。如果函数定义中没有 /，则表示没有仅限位置形参。"
   ]
  },
  {
   "cell_type": "code",
   "execution_count": 29,
   "id": "d75bde17-7312-4d6b-a1f8-849249bbb523",
   "metadata": {},
   "outputs": [],
   "source": [
    "def pos_only_arg(arg, /):\n",
    "    print(arg)"
   ]
  },
  {
   "cell_type": "code",
   "execution_count": 30,
   "id": "2e4a07c4-41e8-4051-a981-efcae47cadd9",
   "metadata": {},
   "outputs": [
    {
     "name": "stdout",
     "output_type": "stream",
     "text": [
      "1\n"
     ]
    }
   ],
   "source": [
    "pos_only_arg(1)"
   ]
  },
  {
   "cell_type": "code",
   "execution_count": 31,
   "id": "6dfdc782-6a8c-470c-a966-442d49973521",
   "metadata": {},
   "outputs": [
    {
     "ename": "TypeError",
     "evalue": "pos_only_arg() got some positional-only arguments passed as keyword arguments: 'arg'",
     "output_type": "error",
     "traceback": [
      "\u001b[31m---------------------------------------------------------------------------\u001b[39m",
      "\u001b[31mTypeError\u001b[39m                                 Traceback (most recent call last)",
      "\u001b[36mCell\u001b[39m\u001b[36m \u001b[39m\u001b[32mIn[31]\u001b[39m\u001b[32m, line 1\u001b[39m\n\u001b[32m----> \u001b[39m\u001b[32m1\u001b[39m \u001b[43mpos_only_arg\u001b[49m\u001b[43m(\u001b[49m\u001b[43marg\u001b[49m\u001b[43m=\u001b[49m\u001b[32;43m1\u001b[39;49m\u001b[43m)\u001b[49m\n",
      "\u001b[31mTypeError\u001b[39m: pos_only_arg() got some positional-only arguments passed as keyword arguments: 'arg'"
     ]
    }
   ],
   "source": [
    "pos_only_arg(arg=1)"
   ]
  },
  {
   "cell_type": "markdown",
   "id": "431f4f1f-3141-4262-85f0-20e70481d3b3",
   "metadata": {},
   "source": [
    "### 3.3 仅限关键字参数"
   ]
  },
  {
   "cell_type": "code",
   "execution_count": 35,
   "id": "e80f5379-7d32-44c9-b3b2-61b2944fa0a2",
   "metadata": {},
   "outputs": [],
   "source": [
    "def kwd_only_arg(*, arg):\n",
    "    print(arg)"
   ]
  },
  {
   "cell_type": "code",
   "execution_count": 37,
   "id": "63dd61ee-f05a-4fea-9173-fadfa78b35f1",
   "metadata": {},
   "outputs": [
    {
     "name": "stdout",
     "output_type": "stream",
     "text": [
      "1\n"
     ]
    }
   ],
   "source": [
    "kwd_only_arg(arg=1)"
   ]
  },
  {
   "cell_type": "code",
   "execution_count": 38,
   "id": "2135a13b-e1cd-4cfd-bc37-07aec307a434",
   "metadata": {},
   "outputs": [
    {
     "ename": "TypeError",
     "evalue": "kwd_only_arg() takes 0 positional arguments but 1 was given",
     "output_type": "error",
     "traceback": [
      "\u001b[31m---------------------------------------------------------------------------\u001b[39m",
      "\u001b[31mTypeError\u001b[39m                                 Traceback (most recent call last)",
      "\u001b[36mCell\u001b[39m\u001b[36m \u001b[39m\u001b[32mIn[38]\u001b[39m\u001b[32m, line 1\u001b[39m\n\u001b[32m----> \u001b[39m\u001b[32m1\u001b[39m \u001b[43mkwd_only_arg\u001b[49m\u001b[43m(\u001b[49m\u001b[32;43m1\u001b[39;49m\u001b[43m)\u001b[49m\n",
      "\u001b[31mTypeError\u001b[39m: kwd_only_arg() takes 0 positional arguments but 1 was given"
     ]
    }
   ],
   "source": [
    "kwd_only_arg(1)"
   ]
  },
  {
   "cell_type": "code",
   "execution_count": 39,
   "id": "c4550452-941e-4a76-82ce-1e5963b57471",
   "metadata": {},
   "outputs": [],
   "source": [
    "def combined_arg(pos_only, /, standard, *, kwd_only):\n",
    "    print(pos_only, standard, kwd_only)"
   ]
  },
  {
   "cell_type": "code",
   "execution_count": 45,
   "id": "064dd5c8-cfb3-44cc-b63d-3157baa922cb",
   "metadata": {},
   "outputs": [
    {
     "name": "stdout",
     "output_type": "stream",
     "text": [
      "1 1 2\n"
     ]
    }
   ],
   "source": [
    "combined_arg(1, standard=1, kwd_only=2)"
   ]
  },
  {
   "cell_type": "markdown",
   "id": "b4deca95-206b-4e9e-ac18-4885cf23bb4a",
   "metadata": {},
   "source": [
    "下面的函数定义中，kwds 把 name 当作键，因此，可能与位置参数 name 产生潜在冲突："
   ]
  },
  {
   "cell_type": "code",
   "execution_count": 48,
   "id": "6f1248d3-b7c8-4785-8d22-b9853d0d0ae5",
   "metadata": {},
   "outputs": [],
   "source": [
    "def foo(name, **kwds):\n",
    "    return 'name' in kwds"
   ]
  },
  {
   "cell_type": "code",
   "execution_count": 50,
   "id": "6e99ff19-6397-4dd2-8931-f1a709f7d77d",
   "metadata": {},
   "outputs": [
    {
     "ename": "TypeError",
     "evalue": "foo() got multiple values for argument 'name'",
     "output_type": "error",
     "traceback": [
      "\u001b[31m---------------------------------------------------------------------------\u001b[39m",
      "\u001b[31mTypeError\u001b[39m                                 Traceback (most recent call last)",
      "\u001b[36mCell\u001b[39m\u001b[36m \u001b[39m\u001b[32mIn[50]\u001b[39m\u001b[32m, line 1\u001b[39m\n\u001b[32m----> \u001b[39m\u001b[32m1\u001b[39m \u001b[43mfoo\u001b[49m\u001b[43m(\u001b[49m\u001b[32;43m1\u001b[39;49m\u001b[43m,\u001b[49m\u001b[43m \u001b[49m\u001b[43m*\u001b[49m\u001b[43m*\u001b[49m\u001b[43m{\u001b[49m\u001b[33;43m'\u001b[39;49m\u001b[33;43mname\u001b[39;49m\u001b[33;43m'\u001b[39;49m\u001b[43m:\u001b[49m\u001b[43m \u001b[49m\u001b[32;43m2\u001b[39;49m\u001b[43m}\u001b[49m\u001b[43m)\u001b[49m\n",
      "\u001b[31mTypeError\u001b[39m: foo() got multiple values for argument 'name'"
     ]
    }
   ],
   "source": [
    "foo(1, **{'name': 2})"
   ]
  },
  {
   "cell_type": "markdown",
   "id": "3fcd58fa-7fa0-41d5-8f55-88ea2d891a7b",
   "metadata": {},
   "source": [
    "加上 / （仅限位置参数）后，就可以了。此时，函数定义把 name 当作位置参数，'name' 也可以作为关键字参数的键："
   ]
  },
  {
   "cell_type": "code",
   "execution_count": 55,
   "id": "55016892-6652-4744-8474-040f2a713e1c",
   "metadata": {},
   "outputs": [],
   "source": [
    "def foo(name, /, **kwds):\n",
    "    return 'name' in kwds"
   ]
  },
  {
   "cell_type": "code",
   "execution_count": 56,
   "id": "38401365-4ea8-4edd-955e-67380f2025db",
   "metadata": {},
   "outputs": [
    {
     "data": {
      "text/plain": [
       "True"
      ]
     },
     "execution_count": 56,
     "metadata": {},
     "output_type": "execute_result"
    }
   ],
   "source": [
    "foo(1, **{'name': 2})"
   ]
  },
  {
   "cell_type": "code",
   "execution_count": 57,
   "id": "d2ac2c28-04fe-457f-8106-a3acc75f746a",
   "metadata": {},
   "outputs": [
    {
     "data": {
      "text/plain": [
       "True"
      ]
     },
     "execution_count": 57,
     "metadata": {},
     "output_type": "execute_result"
    }
   ],
   "source": [
    "foo(1, name=2)"
   ]
  },
  {
   "cell_type": "markdown",
   "id": "007aabb3-1ab4-4f19-886b-56dd5f4ef59c",
   "metadata": {},
   "source": [
    "## 4. 任意实参列表"
   ]
  },
  {
   "cell_type": "markdown",
   "id": "dd439783-3d68-47d3-a28e-feed6e6d43fb",
   "metadata": {},
   "source": [
    "用于采集传递给函数的所有剩余参数，因此，它们通常在形参列表的末尾。*args 形参后的任何形式参数只能是仅限关键字参数，即只能用作关键字参数，不能用作位置参数："
   ]
  },
  {
   "cell_type": "code",
   "execution_count": 58,
   "id": "7a8da16a-498a-4be2-b915-0dc53a07f677",
   "metadata": {},
   "outputs": [],
   "source": [
    "def contcat(*args, sep=\"/\"):\n",
    "    return sep.join(args)"
   ]
  },
  {
   "cell_type": "code",
   "execution_count": 59,
   "id": "4d0eab7c-8496-4340-a9ff-c98b7a554632",
   "metadata": {},
   "outputs": [
    {
     "data": {
      "text/plain": [
       "'earth/mars/venus'"
      ]
     },
     "execution_count": 59,
     "metadata": {},
     "output_type": "execute_result"
    }
   ],
   "source": [
    "contcat(\"earth\", \"mars\", \"venus\")"
   ]
  },
  {
   "cell_type": "markdown",
   "id": "11ea86d0-4d4b-4878-a998-09b63bf808e0",
   "metadata": {},
   "source": [
    "## 5. 解包实参列表"
   ]
  },
  {
   "cell_type": "markdown",
   "id": "255e09a6-686e-492c-af26-0597433864a4",
   "metadata": {},
   "source": [
    "函数调用要求独立的位置参数，但实参在列表或元组里时，要执行相反的操作。例如，内置的 range() 函数要求独立的 start 和 stop 实参。如果这些参数不是独立的，则要在调用函数时，用 * 操作符把实参从列表或元组解包出来："
   ]
  },
  {
   "cell_type": "code",
   "execution_count": 60,
   "id": "71f31f42-69ee-4f0b-8af3-c56e17d14674",
   "metadata": {},
   "outputs": [
    {
     "data": {
      "text/plain": [
       "[3, 4, 5]"
      ]
     },
     "execution_count": 60,
     "metadata": {},
     "output_type": "execute_result"
    }
   ],
   "source": [
    "list(range(3, 6))"
   ]
  },
  {
   "cell_type": "code",
   "execution_count": 61,
   "id": "70cd5cb6-3b2e-44f6-8f3a-9530ac911ba8",
   "metadata": {},
   "outputs": [
    {
     "ename": "TypeError",
     "evalue": "'list' object cannot be interpreted as an integer",
     "output_type": "error",
     "traceback": [
      "\u001b[31m---------------------------------------------------------------------------\u001b[39m",
      "\u001b[31mTypeError\u001b[39m                                 Traceback (most recent call last)",
      "\u001b[36mCell\u001b[39m\u001b[36m \u001b[39m\u001b[32mIn[61]\u001b[39m\u001b[32m, line 2\u001b[39m\n\u001b[32m      1\u001b[39m args = [\u001b[32m3\u001b[39m, \u001b[32m6\u001b[39m]\n\u001b[32m----> \u001b[39m\u001b[32m2\u001b[39m \u001b[38;5;28mlist\u001b[39m(\u001b[38;5;28;43mrange\u001b[39;49m\u001b[43m(\u001b[49m\u001b[43margs\u001b[49m\u001b[43m)\u001b[49m)\n",
      "\u001b[31mTypeError\u001b[39m: 'list' object cannot be interpreted as an integer"
     ]
    }
   ],
   "source": [
    "# 参数在列表中,无法调用的\n",
    "\n",
    "args = [3, 6]\n",
    "list(range(args))"
   ]
  },
  {
   "cell_type": "code",
   "execution_count": 62,
   "id": "53f64be9-5438-4fe3-bb4a-876afd2eab0e",
   "metadata": {},
   "outputs": [
    {
     "data": {
      "text/plain": [
       "[3, 4, 5]"
      ]
     },
     "execution_count": 62,
     "metadata": {},
     "output_type": "execute_result"
    }
   ],
   "source": [
    "# 参数在列表中,进行解包调用\n",
    "args = [3, 6]\n",
    "list(range(*args))"
   ]
  },
  {
   "cell_type": "markdown",
   "id": "e288060a-e939-4c99-8ff3-cc07f388f42f",
   "metadata": {},
   "source": [
    "## 6. Lambda表达式"
   ]
  },
  {
   "cell_type": "markdown",
   "id": "759e99fc-96c3-494e-9781-62b92cde912d",
   "metadata": {},
   "source": [
    "lambda 关键字用于创建小巧的匿名函数。lambda a, b: a+b 函数返回两个参数的和。Lambda 函数可用于任何需要函数对象的地方。在语法上，匿名函数只能是单个表达式。在语义上，它只是常规函数定义的语法糖。与嵌套函数定义一样，lambda 函数可以引用包含作用域中的变量:"
   ]
  },
  {
   "cell_type": "code",
   "execution_count": 63,
   "id": "1f842f25-5792-462d-a944-0089c6c35957",
   "metadata": {},
   "outputs": [],
   "source": [
    "def make_incrementor(n):\n",
    "    return lambda x: x + n"
   ]
  },
  {
   "cell_type": "code",
   "execution_count": 66,
   "id": "2a9604ed-1123-467c-8f8c-f4f543f78d3a",
   "metadata": {},
   "outputs": [
    {
     "data": {
      "text/plain": [
       "11"
      ]
     },
     "execution_count": 66,
     "metadata": {},
     "output_type": "execute_result"
    }
   ],
   "source": [
    "incrementor = make_incrementor(10)\n",
    "\n",
    "incrementor(1)"
   ]
  },
  {
   "cell_type": "markdown",
   "id": "df65c5c7-8c11-481d-91d7-d9f69b0908f1",
   "metadata": {},
   "source": [
    "上面的 incrementor 其实就是:"
   ]
  },
  {
   "cell_type": "code",
   "execution_count": null,
   "id": "53d20add-12c8-4e17-a000-ba6d7d1f565a",
   "metadata": {},
   "outputs": [],
   "source": [
    "def incrementor(x):\n",
    "    return x + 10"
   ]
  },
  {
   "cell_type": "markdown",
   "id": "3656915a-4479-45d5-bc7a-36999460e759",
   "metadata": {},
   "source": [
    "另一种用法是传入一个小函数作为参数。 例如，list.sort() 接受一个排序键函数 key，它可以是一个 lambda 函数:"
   ]
  },
  {
   "cell_type": "code",
   "execution_count": 67,
   "id": "7170f427-9f58-4eff-88e0-d89857cb36f3",
   "metadata": {},
   "outputs": [
    {
     "data": {
      "text/plain": [
       "[(4, 'four'), (1, 'one'), (3, 'three'), (2, 'two')]"
      ]
     },
     "execution_count": 67,
     "metadata": {},
     "output_type": "execute_result"
    }
   ],
   "source": [
    "pairs = [(1, 'one'), (2, 'two'), (3, 'three'), (4, 'four')]\n",
    "pairs.sort(key=lambda pair: pair[1])\n",
    "pairs"
   ]
  },
  {
   "cell_type": "markdown",
   "id": "2796a504-7dda-45ef-a532-863f773e2097",
   "metadata": {},
   "source": [
    "## 7. 文档字符串"
   ]
  },
  {
   "cell_type": "markdown",
   "id": "a4a1022b-8e06-40ce-8ff4-24f6d55cf020",
   "metadata": {},
   "source": [
    "以下是文档字符串内容和格式的约定。\n",
    "\n",
    "第一行应为对象用途的简短摘要。为保持简洁，不要在这里显式说明对象名或类型，因为可通过其他方式获取这些信息（除非该名称碰巧是描述函数操作的动词）。这一行应以大写字母开头，以句点结尾。\n",
    "\n",
    "文档字符串为多行时，第二行应为空白行，在视觉上将摘要与其余描述分开。后面的行可包含若干段落，描述对象的调用约定、副作用等。\n",
    "\n",
    "Python 解析器不会删除 Python 中多行字符串字面值的缩进，因此，文档处理工具应在必要时删除缩进。这项操作遵循以下约定：文档字符串第一行 之后 的第一个非空行决定了整个文档字符串的缩进量（第一行通常与字符串开头的引号相邻，其缩进在字符串中并不明显，因此，不能用第一行的缩进），然后，删除字符串中所有行开头处与此缩进“等价”的空白符。不能有比此缩进更少的行，但如果出现了缩进更少的行，应删除这些行的所有前导空白符。转化制表符后（通常为 8 个空格），应测试空白符的等效性。"
   ]
  },
  {
   "cell_type": "code",
   "execution_count": null,
   "id": "819aeab5-ed53-41fa-9f40-3c8f2c4cd4e7",
   "metadata": {},
   "outputs": [],
   "source": [
    "def f_docstring():\n",
    "    \"\"\"摘要部分\n",
    "    \n",
    "    其余描述部分\n",
    "    \"\"\"\n",
    "    pass\n",
    "    "
   ]
  },
  {
   "cell_type": "markdown",
   "id": "d62b92cb-6fbc-4b3d-a606-422c0fead44e",
   "metadata": {},
   "source": [
    "## 8. 函数注解"
   ]
  },
  {
   "cell_type": "markdown",
   "id": "14cd2ead-a8e0-4a12-a4f9-7101dca42adf",
   "metadata": {},
   "source": [
    "标注 以字典的形式存放在函数的 __annotations__ 属性中而对函数的其他部分没有影响。 形参标注的定义方式是在形参名后加冒号，后面跟一个会被求值为标注的值的表达式。 返回值标注的定义方式是加组合符号 ->，后面跟一个表达式，这样的校注位于形参列表和表示 def 语句结束的冒号。 下面的示例有一个必须的参数、一个可选的关键字参数以及返回值都带有相应的标注:"
   ]
  },
  {
   "cell_type": "code",
   "execution_count": 69,
   "id": "6c5c0222-268d-4ba9-8ebe-3206a03bb354",
   "metadata": {},
   "outputs": [],
   "source": [
    "def f(ham: str, eggs: str = 'eggs') -> str:\n",
    "    print(\"Annotations:\", f.__annotations__)\n",
    "    print(\"Arguments:\", ham, eggs)\n",
    "    return ham + ' and ' + eggs"
   ]
  },
  {
   "cell_type": "code",
   "execution_count": 70,
   "id": "2c0483a1-4bc1-431a-88c0-e9e9522ece1a",
   "metadata": {},
   "outputs": [
    {
     "name": "stdout",
     "output_type": "stream",
     "text": [
      "Annotations: {'ham': <class 'str'>, 'eggs': <class 'str'>, 'return': <class 'str'>}\n",
      "Arguments: spam eggs\n"
     ]
    },
    {
     "data": {
      "text/plain": [
       "'spam and eggs'"
      ]
     },
     "execution_count": 70,
     "metadata": {},
     "output_type": "execute_result"
    }
   ],
   "source": [
    "f('spam')"
   ]
  }
 ],
 "metadata": {
  "kernelspec": {
   "display_name": "Python 3 (ipykernel)",
   "language": "python",
   "name": "python3"
  },
  "language_info": {
   "codemirror_mode": {
    "name": "ipython",
    "version": 3
   },
   "file_extension": ".py",
   "mimetype": "text/x-python",
   "name": "python",
   "nbconvert_exporter": "python",
   "pygments_lexer": "ipython3",
   "version": "3.12.4"
  }
 },
 "nbformat": 4,
 "nbformat_minor": 5
}
