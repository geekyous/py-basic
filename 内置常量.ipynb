{
 "cells": [
  {
   "cell_type": "markdown",
   "id": "fa0f1bc9-cd3a-49cb-9753-bbd5b4fd6828",
   "metadata": {},
   "source": [
    "# 内置常量"
   ]
  },
  {
   "cell_type": "markdown",
   "id": "6205cf02-0183-4e27-8530-e7da3d5933e1",
   "metadata": {},
   "source": [
    "内置常量存在于内置的命名空间"
   ]
  },
  {
   "cell_type": "markdown",
   "id": "58729116-c26e-48d7-adb8-61eacabdb2f2",
   "metadata": {},
   "source": [
    "1. False, bool类型的假值。给 Flase 赋值是非法的并会引发 SyntaxError"
   ]
  },
  {
   "cell_type": "code",
   "execution_count": 3,
   "id": "bb5bba01-db26-4a08-b6c7-d8e2e084a311",
   "metadata": {},
   "outputs": [
    {
     "ename": "SyntaxError",
     "evalue": "cannot assign to False (1865465682.py, line 1)",
     "output_type": "error",
     "traceback": [
      "  \u001b[36mCell\u001b[39m\u001b[36m \u001b[39m\u001b[32mIn[3]\u001b[39m\u001b[32m, line 1\u001b[39m\n\u001b[31m    \u001b[39m\u001b[31mFalse = 0  # SyntaxError\u001b[39m\n    ^\n\u001b[31mSyntaxError\u001b[39m\u001b[31m:\u001b[39m cannot assign to False\n"
     ]
    }
   ],
   "source": [
    "False = 0  # SyntaxError"
   ]
  },
  {
   "cell_type": "markdown",
   "id": "e2d725b8-c539-4abc-9ad0-91a8f6074b41",
   "metadata": {},
   "source": [
    "2. True, bool类型的真值。给 True赋值是非法的并会引发 SynatxError"
   ]
  },
  {
   "cell_type": "code",
   "execution_count": 4,
   "id": "c3bd8f8d-0d00-46f9-99a8-7d5cf7a8216d",
   "metadata": {},
   "outputs": [
    {
     "ename": "SyntaxError",
     "evalue": "cannot assign to True (1770609971.py, line 1)",
     "output_type": "error",
     "traceback": [
      "  \u001b[36mCell\u001b[39m\u001b[36m \u001b[39m\u001b[32mIn[4]\u001b[39m\u001b[32m, line 1\u001b[39m\n\u001b[31m    \u001b[39m\u001b[31mTrue = 1\u001b[39m\n    ^\n\u001b[31mSyntaxError\u001b[39m\u001b[31m:\u001b[39m cannot assign to True\n"
     ]
    }
   ],
   "source": [
    "True = 1"
   ]
  },
  {
   "cell_type": "markdown",
   "id": "d971a0d1-5a20-4990-9128-aca7c9bf7b34",
   "metadata": {},
   "source": [
    "3. NotImplemented, 是一个特殊的单例对象，（注意区别于 NotImplementedError 异常）。它主要用于运算符重载（__eq__、 __add__ 等双目运算符）的返回值，表示当前类型可能不支持这个操作，但可能另一种类型支持。"
   ]
  },
  {
   "cell_type": "code",
   "execution_count": 18,
   "id": "d6497232-868a-473d-b265-d30e59e8b838",
   "metadata": {},
   "outputs": [],
   "source": [
    "class MyNumber:\n",
    "\n",
    "    def __init__(self, value):\n",
    "        self.value = value\n",
    "\n",
    "    def __eq__(self, other):\n",
    "        if isinstance(other, MyNumber):\n",
    "            return self.value == other.value\n",
    "        return NotImplemented"
   ]
  },
  {
   "cell_type": "code",
   "execution_count": 22,
   "id": "3de57daa-e599-404b-93da-8e1009cb7e8e",
   "metadata": {},
   "outputs": [
    {
     "name": "stdout",
     "output_type": "stream",
     "text": [
      "True\n"
     ]
    }
   ],
   "source": [
    "a = MyNumber(1)\n",
    "b = MyNumber(1)\n",
    "print(a == b)"
   ]
  },
  {
   "cell_type": "code",
   "execution_count": 21,
   "id": "dc98ab03-b7a8-4378-ab27-6b2cace8173f",
   "metadata": {},
   "outputs": [
    {
     "name": "stdout",
     "output_type": "stream",
     "text": [
      "False\n"
     ]
    }
   ],
   "source": [
    "c = MyNumber(1)\n",
    "d = 2\n",
    "print(c == d)"
   ]
  },
  {
   "cell_type": "markdown",
   "id": "9a4240ea-7c1d-4b12-8534-fa2ec23859b3",
   "metadata": {},
   "source": [
    "4. Ellipsis，是一个内置变量，表现为字面量 ..."
   ]
  },
  {
   "cell_type": "code",
   "execution_count": 26,
   "id": "e79be76a-6408-40ea-b94f-7d250eea5b6f",
   "metadata": {},
   "outputs": [
    {
     "data": {
      "text/plain": [
       "Ellipsis"
      ]
     },
     "execution_count": 26,
     "metadata": {},
     "output_type": "execute_result"
    }
   ],
   "source": [
    "Ellipsis"
   ]
  },
  {
   "cell_type": "code",
   "execution_count": 27,
   "id": "df2127e1-6235-489f-aef7-5075d56145c0",
   "metadata": {},
   "outputs": [
    {
     "data": {
      "text/plain": [
       "Ellipsis"
      ]
     },
     "execution_count": 27,
     "metadata": {},
     "output_type": "execute_result"
    }
   ],
   "source": [
    "..."
   ]
  },
  {
   "cell_type": "code",
   "execution_count": 28,
   "id": "6bc5f0e9-ab8c-4c22-b2c3-d0a782a0a318",
   "metadata": {},
   "outputs": [
    {
     "data": {
      "text/plain": [
       "True"
      ]
     },
     "execution_count": 28,
     "metadata": {},
     "output_type": "execute_result"
    }
   ],
   "source": [
    "... is Ellipsis"
   ]
  },
  {
   "cell_type": "markdown",
   "id": "57109b33-6cbf-47fd-b205-6b0f6872eb13",
   "metadata": {},
   "source": [
    "5. __debug__，用于表示当前是否在debug模式下运行，常用于 assert 和 “调试/发布”模式切换"
   ]
  },
  {
   "cell_type": "code",
   "execution_count": 29,
   "id": "58c1651b-f420-4b20-9adf-8e47119c17c5",
   "metadata": {},
   "outputs": [],
   "source": [
    "def check(value):\n",
    "    assert value > 0, \"value必须大于 0\"\n",
    "    if __debug__:\n",
    "        print(\"调试模式：value=\", value)\n",
    "    else:\n",
    "        print(\"优化模式：value=\", value)"
   ]
  },
  {
   "cell_type": "code",
   "execution_count": 30,
   "id": "3342deeb-f969-42cb-b621-b57e29f82bca",
   "metadata": {},
   "outputs": [
    {
     "name": "stdout",
     "output_type": "stream",
     "text": [
      "调试模式：value= 1\n"
     ]
    }
   ],
   "source": [
    "check(1)  # 默认 __debug__ == True"
   ]
  },
  {
   "cell_type": "code",
   "execution_count": 31,
   "id": "951e95b0-bb7c-4240-8f76-a8ee7d92c2dd",
   "metadata": {},
   "outputs": [
    {
     "ename": "AssertionError",
     "evalue": "value必须大于 0",
     "output_type": "error",
     "traceback": [
      "\u001b[31m---------------------------------------------------------------------------\u001b[39m",
      "\u001b[31mAssertionError\u001b[39m                            Traceback (most recent call last)",
      "\u001b[36mCell\u001b[39m\u001b[36m \u001b[39m\u001b[32mIn[31]\u001b[39m\u001b[32m, line 1\u001b[39m\n\u001b[32m----> \u001b[39m\u001b[32m1\u001b[39m \u001b[43mcheck\u001b[49m\u001b[43m(\u001b[49m\u001b[43m-\u001b[49m\u001b[32;43m1\u001b[39;49m\u001b[43m)\u001b[49m\n",
      "\u001b[36mCell\u001b[39m\u001b[36m \u001b[39m\u001b[32mIn[29]\u001b[39m\u001b[32m, line 2\u001b[39m, in \u001b[36mcheck\u001b[39m\u001b[34m(value)\u001b[39m\n\u001b[32m      1\u001b[39m \u001b[38;5;28;01mdef\u001b[39;00m\u001b[38;5;250m \u001b[39m\u001b[34mcheck\u001b[39m(value):\n\u001b[32m----> \u001b[39m\u001b[32m2\u001b[39m     \u001b[38;5;28;01massert\u001b[39;00m value > \u001b[32m0\u001b[39m, \u001b[33m\"\u001b[39m\u001b[33mvalue必须大于 0\u001b[39m\u001b[33m\"\u001b[39m\n\u001b[32m      3\u001b[39m     \u001b[38;5;28;01mif\u001b[39;00m __debug__:\n\u001b[32m      4\u001b[39m         \u001b[38;5;28mprint\u001b[39m(\u001b[33m\"\u001b[39m\u001b[33m调试模式：value=\u001b[39m\u001b[33m\"\u001b[39m, value)\n",
      "\u001b[31mAssertionError\u001b[39m: value必须大于 0"
     ]
    }
   ],
   "source": [
    "check(-1)  # 默认 __debug__ == True"
   ]
  },
  {
   "cell_type": "markdown",
   "id": "752bc582-047a-4229-9765-e0a4993d5879",
   "metadata": {},
   "source": [
    "优化模式运行 python -O demo_debug.py\n",
    "\n",
    "优化模式：value = 1\n",
    "\n",
    "优化模式：value = -1\n",
    "\n",
    "优化模式下 所有 assert语句都会被移除， if __debug__: 分支会被编译器直接忽略\n"
   ]
  }
 ],
 "metadata": {
  "kernelspec": {
   "display_name": "Python 3 (ipykernel)",
   "language": "python",
   "name": "python3"
  },
  "language_info": {
   "codemirror_mode": {
    "name": "ipython",
    "version": 3
   },
   "file_extension": ".py",
   "mimetype": "text/x-python",
   "name": "python",
   "nbconvert_exporter": "python",
   "pygments_lexer": "ipython3",
   "version": "3.12.9"
  }
 },
 "nbformat": 4,
 "nbformat_minor": 5
}
