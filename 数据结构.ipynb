{
 "cells": [
  {
   "cell_type": "markdown",
   "id": "e443e1fa-db10-4651-87df-cc4de4cec7d4",
   "metadata": {},
   "source": [
    "# 数据结构"
   ]
  },
  {
   "cell_type": "markdown",
   "id": "9e88d0cf-7a41-4bec-8fb6-adaa3d1f26fe",
   "metadata": {},
   "source": [
    "## 列表详解"
   ]
  },
  {
   "cell_type": "markdown",
   "id": "dfc803c1-7f37-40d9-abbc-c2e91d90e172",
   "metadata": {},
   "source": [
    "1. list.append(x), 在列表末尾添加一项。 类似于 a[len(a):] = [x]。"
   ]
  },
  {
   "cell_type": "code",
   "execution_count": 47,
   "id": "e520ba7f-c84d-4474-ac62-04d84419d011",
   "metadata": {},
   "outputs": [
    {
     "data": {
      "text/plain": [
       "[1, 2]"
      ]
     },
     "execution_count": 47,
     "metadata": {},
     "output_type": "execute_result"
    }
   ],
   "source": [
    "a_list = []\n",
    "a_list.append(1)\n",
    "a_list.append(2)\n",
    "a_list"
   ]
  },
  {
   "cell_type": "markdown",
   "id": "a1ad46cb-be26-4cea-842b-94f0ca65d59f",
   "metadata": {},
   "source": [
    "2. list.extend(iterable), 通过添加来自 iterable 的所有项来扩展列表。 类似于 a[len(a):] = iterable。"
   ]
  },
  {
   "cell_type": "code",
   "execution_count": 5,
   "id": "53fe9fbc-a0e1-411e-81ad-d2625a71aee4",
   "metadata": {},
   "outputs": [
    {
     "data": {
      "text/plain": [
       "[1, 2, 3, 4]"
      ]
     },
     "execution_count": 5,
     "metadata": {},
     "output_type": "execute_result"
    }
   ],
   "source": [
    "a_list = [1, 2]\n",
    "b_list = [3, 4]\n",
    "a_list.extend(b_list)\n",
    "a_list"
   ]
  },
  {
   "cell_type": "markdown",
   "id": "1fd2e030-064f-4f03-a5ef-383d2d6d37f8",
   "metadata": {},
   "source": [
    "3. list.insert(i, x),在指定位置插入元素。第一个参数是插入元素的索引，因此，a.insert(0, x) 在列表开头插入元素， a.insert(len(a), x) 等同于 a.append(x) 。"
   ]
  },
  {
   "cell_type": "code",
   "execution_count": 14,
   "id": "cbbcb5da-3ace-4320-93ef-52ff53c89b12",
   "metadata": {},
   "outputs": [
    {
     "data": {
      "text/plain": [
       "['one', 'two', 'three']"
      ]
     },
     "execution_count": 14,
     "metadata": {},
     "output_type": "execute_result"
    }
   ],
   "source": [
    "a_list = []\n",
    "a_list.insert(0, 'one')\n",
    "a_list.insert(2, 'three')\n",
    "a_list.insert(1, 'two')\n",
    "a_list"
   ]
  },
  {
   "cell_type": "markdown",
   "id": "05753260-eaca-4b06-a763-c86d5d17e333",
   "metadata": {},
   "source": [
    "4. list.remove(x), 从列表中删除第一个值为 x 的元素。未找到指定元素时，触发 ValueError 异常。"
   ]
  },
  {
   "cell_type": "code",
   "execution_count": 15,
   "id": "c8afe245-dadf-4cba-a1b3-285cff31e094",
   "metadata": {},
   "outputs": [
    {
     "data": {
      "text/plain": [
       "['two', 'three']"
      ]
     },
     "execution_count": 15,
     "metadata": {},
     "output_type": "execute_result"
    }
   ],
   "source": [
    "a_list.remove('one')\n",
    "a_list"
   ]
  },
  {
   "cell_type": "code",
   "execution_count": 16,
   "id": "e87347d9-7887-4c6f-aad8-9360acd46ecb",
   "metadata": {},
   "outputs": [
    {
     "ename": "ValueError",
     "evalue": "list.remove(x): x not in list",
     "output_type": "error",
     "traceback": [
      "\u001b[31m---------------------------------------------------------------------------\u001b[39m",
      "\u001b[31mValueError\u001b[39m                                Traceback (most recent call last)",
      "\u001b[36mCell\u001b[39m\u001b[36m \u001b[39m\u001b[32mIn[16]\u001b[39m\u001b[32m, line 1\u001b[39m\n\u001b[32m----> \u001b[39m\u001b[32m1\u001b[39m \u001b[43ma_list\u001b[49m\u001b[43m.\u001b[49m\u001b[43mremove\u001b[49m\u001b[43m(\u001b[49m\u001b[33;43m'\u001b[39;49m\u001b[33;43mone\u001b[39;49m\u001b[33;43m'\u001b[39;49m\u001b[43m)\u001b[49m\n\u001b[32m      2\u001b[39m a_list\n",
      "\u001b[31mValueError\u001b[39m: list.remove(x): x not in list"
     ]
    }
   ],
   "source": [
    "a_list.remove('one')\n",
    "a_list"
   ]
  },
  {
   "cell_type": "markdown",
   "id": "e6f93162-e3dc-441e-b964-521216811c91",
   "metadata": {},
   "source": [
    "5. list.pop([i]),移除列表中给定位置上的条目，并返回该条目。 如果未指定索引号，则 a.pop() 将移除并返回列表中的最后一个条目。 如果列表为空或索引号在列表索引范围之外则会引发 IndexError。"
   ]
  },
  {
   "cell_type": "code",
   "execution_count": 60,
   "id": "a745d108-96b4-464c-bff5-af043e74a4b8",
   "metadata": {},
   "outputs": [
    {
     "name": "stdout",
     "output_type": "stream",
     "text": [
      "num 4\n",
      "a_list [1, 2, 3]\n"
     ]
    }
   ],
   "source": [
    "a_list = [1, 2, 3, 4]\n",
    "num = a_list.pop()\n",
    "print(\"num\", num)\n",
    "print(\"a_list\", a_list)"
   ]
  },
  {
   "cell_type": "code",
   "execution_count": 61,
   "id": "692dbd6d-aeaf-43c7-a5fb-70764713d506",
   "metadata": {},
   "outputs": [
    {
     "name": "stdout",
     "output_type": "stream",
     "text": [
      "num 1\n",
      "a_list [2, 3]\n"
     ]
    }
   ],
   "source": [
    "num = a_list.pop(0)\n",
    "print(\"num\", num)\n",
    "print(\"a_list\", a_list)"
   ]
  },
  {
   "cell_type": "code",
   "execution_count": 24,
   "id": "a0cc0239-5b7a-48c9-b579-5db212d97b8b",
   "metadata": {},
   "outputs": [
    {
     "ename": "IndexError",
     "evalue": "pop index out of range",
     "output_type": "error",
     "traceback": [
      "\u001b[31m---------------------------------------------------------------------------\u001b[39m",
      "\u001b[31mIndexError\u001b[39m                                Traceback (most recent call last)",
      "\u001b[36mCell\u001b[39m\u001b[36m \u001b[39m\u001b[32mIn[24]\u001b[39m\u001b[32m, line 1\u001b[39m\n\u001b[32m----> \u001b[39m\u001b[32m1\u001b[39m \u001b[43ma_list\u001b[49m\u001b[43m.\u001b[49m\u001b[43mpop\u001b[49m\u001b[43m(\u001b[49m\u001b[32;43m5\u001b[39;49m\u001b[43m)\u001b[49m\n\u001b[32m      2\u001b[39m a_list\n",
      "\u001b[31mIndexError\u001b[39m: pop index out of range"
     ]
    }
   ],
   "source": [
    "a_list.pop(5)\n",
    "a_list"
   ]
  },
  {
   "cell_type": "markdown",
   "id": "4c181eb1-975f-40e5-a426-082da3580d42",
   "metadata": {},
   "source": [
    "6. list.clear(),移除列表中的所有项。 类似于 del a[:]。"
   ]
  },
  {
   "cell_type": "code",
   "execution_count": 25,
   "id": "abd562d1-422a-4c86-9e35-1675eb394ca1",
   "metadata": {},
   "outputs": [
    {
     "data": {
      "text/plain": [
       "[]"
      ]
     },
     "execution_count": 25,
     "metadata": {},
     "output_type": "execute_result"
    }
   ],
   "source": [
    "a_list = [1, 2, 3, 4]\n",
    "a_list.clear()\n",
    "a_list"
   ]
  },
  {
   "cell_type": "markdown",
   "id": "cc95fcd7-da3f-4520-ad7f-ad66abd6d799",
   "metadata": {},
   "source": [
    "7. list.index(x[, start[, end]]),返回列表中第一个值为 x 的元素的零基索引。未找到指定元素时，触发 ValueError 异常。可选参数 start 和 end 是切片符号，用于将搜索限制为列表的特定子序列。返回的索引是相对于整个序列的开始计算的，而不是 start 参数。"
   ]
  },
  {
   "cell_type": "code",
   "execution_count": 26,
   "id": "b328fdc8-981c-4c79-b53c-5604e82394b4",
   "metadata": {},
   "outputs": [
    {
     "data": {
      "text/plain": [
       "1"
      ]
     },
     "execution_count": 26,
     "metadata": {},
     "output_type": "execute_result"
    }
   ],
   "source": [
    "a_list = [1, 2, 3, 4]\n",
    "a_list.index(2)"
   ]
  },
  {
   "cell_type": "code",
   "execution_count": 35,
   "id": "9f413cac-f6d7-4d04-b171-ab8ea23a5e66",
   "metadata": {},
   "outputs": [
    {
     "ename": "ValueError",
     "evalue": "4 is not in list",
     "output_type": "error",
     "traceback": [
      "\u001b[31m---------------------------------------------------------------------------\u001b[39m",
      "\u001b[31mValueError\u001b[39m                                Traceback (most recent call last)",
      "\u001b[36mCell\u001b[39m\u001b[36m \u001b[39m\u001b[32mIn[35]\u001b[39m\u001b[32m, line 1\u001b[39m\n\u001b[32m----> \u001b[39m\u001b[32m1\u001b[39m \u001b[43ma_list\u001b[49m\u001b[43m.\u001b[49m\u001b[43mindex\u001b[49m\u001b[43m(\u001b[49m\u001b[32;43m4\u001b[39;49m\u001b[43m,\u001b[49m\u001b[43m \u001b[49m\u001b[32;43m1\u001b[39;49m\u001b[43m,\u001b[49m\u001b[43m \u001b[49m\u001b[32;43m3\u001b[39;49m\u001b[43m)\u001b[49m\n",
      "\u001b[31mValueError\u001b[39m: 4 is not in list"
     ]
    }
   ],
   "source": [
    "a_list.index(4, 1, 3)"
   ]
  },
  {
   "cell_type": "code",
   "execution_count": 36,
   "id": "e7075399-cf5b-4b23-9a9a-93f8cc0188f0",
   "metadata": {},
   "outputs": [
    {
     "data": {
      "text/plain": [
       "3"
      ]
     },
     "execution_count": 36,
     "metadata": {},
     "output_type": "execute_result"
    }
   ],
   "source": [
    "a_list.index(4, 1, 4)"
   ]
  },
  {
   "cell_type": "markdown",
   "id": "854c0fbc-890e-42f3-96c6-4977a2d5dfd3",
   "metadata": {},
   "source": [
    "8. list.count(x), 返回列表中元素 x 出现的次数。"
   ]
  },
  {
   "cell_type": "code",
   "execution_count": 38,
   "id": "3ce6df74-c9d4-4c54-9676-9c10cbdd0504",
   "metadata": {},
   "outputs": [
    {
     "data": {
      "text/plain": [
       "2"
      ]
     },
     "execution_count": 38,
     "metadata": {},
     "output_type": "execute_result"
    }
   ],
   "source": [
    "a_list = [1, 2, 3, 4, 4]\n",
    "a_list.count(4)"
   ]
  },
  {
   "cell_type": "markdown",
   "id": "edc7de5f-ccf1-45e8-9c15-bedace5f3c30",
   "metadata": {},
   "source": [
    "9. list.sort(*, key=None, reverse=False), 就地排序列表中的元素"
   ]
  },
  {
   "cell_type": "code",
   "execution_count": 39,
   "id": "8d5f534a-7fb4-4c14-852c-1aa0a0d6a1cb",
   "metadata": {},
   "outputs": [
    {
     "data": {
      "text/plain": [
       "[1, 2, 3, 4, 5, 6]"
      ]
     },
     "execution_count": 39,
     "metadata": {},
     "output_type": "execute_result"
    }
   ],
   "source": [
    "a_list = [1, 2, 4, 3, 6, 5]\n",
    "a_list.sort()\n",
    "a_list"
   ]
  },
  {
   "cell_type": "markdown",
   "id": "43ed6e48-c560-4054-8856-a223b06cae4d",
   "metadata": {},
   "source": [
    "10. list.reverse(), 翻转列表中的元素。"
   ]
  },
  {
   "cell_type": "code",
   "execution_count": 41,
   "id": "ef18e0cb-20b2-406c-9735-05ebe1e57bf3",
   "metadata": {},
   "outputs": [
    {
     "data": {
      "text/plain": [
       "[4, 3, 2, 1]"
      ]
     },
     "execution_count": 41,
     "metadata": {},
     "output_type": "execute_result"
    }
   ],
   "source": [
    "a_list = [1, 2, 3, 4]\n",
    "a_list.reverse()\n",
    "a_list"
   ]
  },
  {
   "cell_type": "markdown",
   "id": "ba0f7369-77b8-43bf-a0bc-346ff2f83217",
   "metadata": {},
   "source": [
    "11. list.copy(),返回列表的浅拷贝。 类似于 a[:]。"
   ]
  },
  {
   "cell_type": "code",
   "execution_count": 43,
   "id": "7f35a44f-094e-4676-862f-15893e5c4317",
   "metadata": {},
   "outputs": [
    {
     "name": "stdout",
     "output_type": "stream",
     "text": [
      "b_list [1, 2, 3, 4]\n",
      "b_list [1, 2, 3]\n",
      "a_list [1, 2, 3, 4]\n"
     ]
    }
   ],
   "source": [
    "# 浅拷贝-非引用对象\n",
    "\n",
    "a_list = [1, 2, 3, 4]\n",
    "b_list = a_list.copy()\n",
    "print(\"b_list\", b_list)\n",
    "b_list.pop()\n",
    "print(\"b_list\", b_list)\n",
    "print(\"a_list\", a_list)"
   ]
  },
  {
   "cell_type": "code",
   "execution_count": 45,
   "id": "fec5c9e1-b168-49d3-a777-5e08e3f567c7",
   "metadata": {},
   "outputs": [
    {
     "name": "stdout",
     "output_type": "stream",
     "text": [
      "b_list [1, 2, 3, 4, [11, 12, 23]]\n",
      "b_list [1, 2, 3, 4, [11, 12]]\n",
      "a_list [1, 2, 3, 4, [11, 12]]\n"
     ]
    }
   ],
   "source": [
    "# 浅拷贝-引用对象\n",
    "\n",
    "sub_list = [11, 12, 13]\n",
    "a_list = [1, 2, 3, 4, sub_list]\n",
    "b_list = a_list.copy()\n",
    "print(\"b_list\", b_list)\n",
    "b_list[-1].pop()\n",
    "print(\"b_list\", b_list)\n",
    "print(\"a_list\", a_list)"
   ]
  },
  {
   "cell_type": "markdown",
   "id": "b33c67a1-9033-4414-a50f-124cee0d7952",
   "metadata": {},
   "source": [
    "12. 列表实现堆栈,栈式先进后出的线性结构,可采用append(),在列表增加元素实现在栈顶添加元素,采用pop()不指定索引从栈顶取出元素"
   ]
  },
  {
   "cell_type": "code",
   "execution_count": 48,
   "id": "90384116-34e8-4b60-8c0a-7d54fe7a0df8",
   "metadata": {},
   "outputs": [
    {
     "name": "stdout",
     "output_type": "stream",
     "text": [
      "a_list [1, 2]\n",
      "a_list [1]\n"
     ]
    }
   ],
   "source": [
    "a_list = []\n",
    "a_list.append(1)  # 压栈\n",
    "a_list.append(2)  # 压栈\n",
    "print(\"a_list\", a_list)\n",
    "a_list.pop()  # 出栈\n",
    "print(\"a_list\", a_list)"
   ]
  },
  {
   "cell_type": "markdown",
   "id": "fd9840a3-c898-44b2-88e1-6547a6413cfb",
   "metadata": {},
   "source": [
    "13. 列表实现队列, 队列先进先出,可采用append(),在队列增加元素添加元素,采用pop(0)取出元素"
   ]
  },
  {
   "cell_type": "code",
   "execution_count": 50,
   "id": "ec1ff921-d193-4e09-a27a-64be8708a65e",
   "metadata": {},
   "outputs": [
    {
     "name": "stdout",
     "output_type": "stream",
     "text": [
      "a_list [1, 2]\n",
      "a_list [2]\n"
     ]
    }
   ],
   "source": [
    "a_list = []\n",
    "a_list.append(1)  # 入队列\n",
    "a_list.append(2)  # 入队列\n",
    "print(\"a_list\", a_list)\n",
    "a_list.pop(0)  # 出队列\n",
    "print(\"a_list\", a_list)"
   ]
  },
  {
   "cell_type": "markdown",
   "id": "d45eccd6-f763-4659-a9d4-deaa936148f4",
   "metadata": {},
   "source": [
    "14. 列表推导式, 列表推导式创建列表的方式更简洁。常见的用法为，对序列或可迭代对象中的每个元素应用某种操作，用生成的结果创建新的列表；或用满足特定条件的元素创建子序列。"
   ]
  },
  {
   "cell_type": "code",
   "execution_count": 53,
   "id": "a01d1f44-5dc6-451e-b501-ac4e5e47d9c7",
   "metadata": {},
   "outputs": [
    {
     "data": {
      "text/plain": [
       "[0, 1, 4, 9, 16, 25, 36, 49, 64, 81]"
      ]
     },
     "execution_count": 53,
     "metadata": {},
     "output_type": "execute_result"
    }
   ],
   "source": [
    "# 求10数的平方\n",
    "squares = [x**2 for x in range(10)]\n",
    "squares"
   ]
  },
  {
   "cell_type": "code",
   "execution_count": 55,
   "id": "d722f4a8-ee8f-47b3-9b35-aa5bc5cf97cc",
   "metadata": {},
   "outputs": [
    {
     "data": {
      "text/plain": [
       "[0, 1, 4, 9, 16, 25, 36, 49, 64, 81]"
      ]
     },
     "execution_count": 55,
     "metadata": {},
     "output_type": "execute_result"
    }
   ],
   "source": [
    "# 等价于\n",
    "squares = []\n",
    "for x in range(10):\n",
    "    squares.append(x**2)\n",
    "squares"
   ]
  },
  {
   "cell_type": "markdown",
   "id": "e75b6087-d637-4675-bf09-42eab0f78ae0",
   "metadata": {},
   "source": [
    "列表推导式的方括号内包含以下内容：一个表达式，后面为一个 for 子句，然后，是零个或多个 for 或 if 子句。结果是由表达式依据 for 和 if 子句求值计算而得出一个新列表。 举例来说，以下列表推导式将两个列表中不相等的元素组合起来："
   ]
  },
  {
   "cell_type": "code",
   "execution_count": 56,
   "id": "1d407a10-5bc4-45d5-90e7-f4a2c68aa1fe",
   "metadata": {},
   "outputs": [
    {
     "data": {
      "text/plain": [
       "[(1, 3), (1, 4), (2, 3), (2, 1), (2, 4), (3, 1), (3, 4)]"
      ]
     },
     "execution_count": 56,
     "metadata": {},
     "output_type": "execute_result"
    }
   ],
   "source": [
    "[(x, y) for x in [1,2,3] for y in [3,1,4] if x != y]"
   ]
  },
  {
   "cell_type": "markdown",
   "id": "358832b4-4c1d-427b-9178-991caf865767",
   "metadata": {},
   "source": [
    "15. 嵌套的列表推导式"
   ]
  },
  {
   "cell_type": "markdown",
   "id": "68df1259-a241-4ae7-826c-904ba70cfc0b",
   "metadata": {},
   "source": [
    "16. del 语句,可以按索引而不是按值从一个列表移除条目： 这不同于返回一个值的 pop() 方法。 del 语句还可被用来从列表移除切片或清空整个列表（之前我们通过将一个空列表赋值给切片实现此功能）。 例如:"
   ]
  },
  {
   "cell_type": "code",
   "execution_count": 59,
   "id": "a3648e2a-3da6-442c-8c26-144457f61e37",
   "metadata": {},
   "outputs": [
    {
     "data": {
      "text/plain": [
       "[2, 3, 4, 5]"
      ]
     },
     "execution_count": 59,
     "metadata": {},
     "output_type": "execute_result"
    }
   ],
   "source": [
    "a_list = [1, 2, 3, 4, 5]\n",
    "del a_list[0]\n",
    "a_list"
   ]
  },
  {
   "cell_type": "code",
   "execution_count": null,
   "id": "54e9856b-b7ec-4db9-a546-0bcc17357c0e",
   "metadata": {},
   "outputs": [],
   "source": [
    "del 也可以用来删除整个变量："
   ]
  },
  {
   "cell_type": "code",
   "execution_count": null,
   "id": "65647844-8f44-49e8-beb0-223548b8d360",
   "metadata": {},
   "outputs": [],
   "source": [
    "del a_list"
   ]
  },
  {
   "cell_type": "markdown",
   "id": "badc6a7d-3cc5-4ee7-88f8-dfe8afbdbb42",
   "metadata": {},
   "source": [
    "## 元组"
   ]
  },
  {
   "cell_type": "markdown",
   "id": "34caf7ec-ea7c-4990-a449-9b9c6c75b0eb",
   "metadata": {},
   "source": [
    "元组与列表很像，但使用场景不同，用途也不同。元组是 immutable （不可变的）。"
   ]
  },
  {
   "cell_type": "markdown",
   "id": "0b4bbfe2-eb15-441c-8d7a-83e5f9cb1063",
   "metadata": {},
   "source": [
    "1. 创建元组"
   ]
  },
  {
   "cell_type": "markdown",
   "id": "fe782325-9818-4651-8ae3-71753fae36a7",
   "metadata": {},
   "source": [
    "- 元组由多个用逗号隔开的值组成，如："
   ]
  },
  {
   "cell_type": "code",
   "execution_count": null,
   "id": "27930cdb-5b6f-4451-a4c3-c65be326df27",
   "metadata": {},
   "outputs": [],
   "source": [
    "t = (12345, 54321, 'hello')"
   ]
  },
  {
   "cell_type": "markdown",
   "id": "e91461f2-9411-4bc1-9257-2f6abfe883ea",
   "metadata": {},
   "source": [
    "- 构造 0 个或 1 个元素的元组比较特殊：用一对空圆括号就可以创建空元组；只有一个元素的元组可以通过在这个元素后添加逗号来构建（圆括号里只有一个值的话不够明确）。"
   ]
  },
  {
   "cell_type": "code",
   "execution_count": 7,
   "id": "b154533c-bc10-4f9e-a9ba-f4f8647a6742",
   "metadata": {},
   "outputs": [
    {
     "data": {
      "text/plain": [
       "tuple"
      ]
     },
     "execution_count": 7,
     "metadata": {},
     "output_type": "execute_result"
    }
   ],
   "source": [
    "# 空元组\n",
    "\n",
    "t_empty = ()\n",
    "\n",
    "type(t_empty)"
   ]
  },
  {
   "cell_type": "code",
   "execution_count": 9,
   "id": "17a13bc9-5eb0-4666-a485-e1d178f31e7d",
   "metadata": {},
   "outputs": [
    {
     "name": "stdout",
     "output_type": "stream",
     "text": [
      "('hello',)\n"
     ]
    }
   ],
   "source": [
    "# 一个元素的元组\n",
    "\n",
    "singleton = 'hello',\n",
    "print(singleton)"
   ]
  },
  {
   "cell_type": "markdown",
   "id": "fd12a603-8a77-4d2f-aa30-a0d3dca7c2ff",
   "metadata": {},
   "source": [
    "- 创建元组时最好是使用()，方便区分"
   ]
  },
  {
   "cell_type": "markdown",
   "id": "ee1d7539-846d-43fb-856c-4c6163e38822",
   "metadata": {},
   "source": [
    "## 集合"
   ]
  },
  {
   "cell_type": "markdown",
   "id": "2c27303d-4166-4e71-9255-9d935e4b458d",
   "metadata": {},
   "source": [
    "集合是由不重复元素组成的无序容器"
   ]
  },
  {
   "cell_type": "markdown",
   "id": "7d8bc9e6-00e3-42b5-a878-2e04fe1d494c",
   "metadata": {},
   "source": [
    "1. 创建集合，使用花括号{}或者set()函数，创建空集合只能使用set()，不能用{}，因为{}是创建空字典的。"
   ]
  },
  {
   "cell_type": "code",
   "execution_count": 11,
   "id": "f9af1076-2789-40f7-a71e-b02ba14dc8b6",
   "metadata": {},
   "outputs": [
    {
     "data": {
      "text/plain": [
       "set"
      ]
     },
     "execution_count": 11,
     "metadata": {},
     "output_type": "execute_result"
    }
   ],
   "source": [
    "# 创建空集合\n",
    "s_empty = set()\n",
    "type(s_empty)"
   ]
  },
  {
   "cell_type": "code",
   "execution_count": 12,
   "id": "49d6bac1-f393-4336-8daa-02010ba3dc9d",
   "metadata": {},
   "outputs": [],
   "source": [
    "basket = {'apple', 'orange', 'apple', 'pear', 'orange', 'banana'}"
   ]
  },
  {
   "cell_type": "code",
   "execution_count": 14,
   "id": "f5523793-935c-42c0-8413-2192310496eb",
   "metadata": {},
   "outputs": [
    {
     "name": "stdout",
     "output_type": "stream",
     "text": [
      "{'orange', 'banana', 'pear', 'apple'}\n"
     ]
    }
   ],
   "source": [
    "print(basket)"
   ]
  },
  {
   "cell_type": "markdown",
   "id": "c688e3ae-af25-4946-900a-d2c68ef8e5d4",
   "metadata": {},
   "source": [
    "2. 集合成员检测"
   ]
  },
  {
   "cell_type": "code",
   "execution_count": 13,
   "id": "15516482-ce83-477a-a3ce-bd071c08f673",
   "metadata": {},
   "outputs": [
    {
     "data": {
      "text/plain": [
       "True"
      ]
     },
     "execution_count": 13,
     "metadata": {},
     "output_type": "execute_result"
    }
   ],
   "source": [
    "'apple' in basket"
   ]
  },
  {
   "cell_type": "markdown",
   "id": "fb76f41f-f65d-44e9-860b-78904ce104c8",
   "metadata": {},
   "source": [
    "3. 集合运算"
   ]
  },
  {
   "cell_type": "code",
   "execution_count": 15,
   "id": "5c2a8b66-804a-4a61-98ea-90a776346725",
   "metadata": {},
   "outputs": [],
   "source": [
    "set_1 = {1, 2, 3, 4, 5}\n",
    "set_2 = {5 ,6 ,7, 8, 9}"
   ]
  },
  {
   "cell_type": "markdown",
   "id": "a3318c78-995b-4562-a85b-a18c0ad264fa",
   "metadata": {},
   "source": [
    "- 并集"
   ]
  },
  {
   "cell_type": "code",
   "execution_count": null,
   "id": "14faadcc-7f0e-4216-9db3-2fac3e856bc0",
   "metadata": {},
   "outputs": [],
   "source": [
    "set_1 | set_2"
   ]
  },
  {
   "cell_type": "code",
   "execution_count": 17,
   "id": "4467443d-19db-493a-91e5-5be087c108a1",
   "metadata": {},
   "outputs": [
    {
     "data": {
      "text/plain": [
       "{1, 2, 3, 4, 5, 6, 7, 8, 9}"
      ]
     },
     "execution_count": 17,
     "metadata": {},
     "output_type": "execute_result"
    }
   ],
   "source": [
    "set_1.union(set_2)"
   ]
  },
  {
   "cell_type": "markdown",
   "id": "e5b93581-b1cd-4a57-928c-5c49cf960fec",
   "metadata": {},
   "source": [
    "- 交集"
   ]
  },
  {
   "cell_type": "code",
   "execution_count": 18,
   "id": "ed6744ce-d1c2-409b-97d0-dadfb74df2c6",
   "metadata": {},
   "outputs": [
    {
     "data": {
      "text/plain": [
       "{5}"
      ]
     },
     "execution_count": 18,
     "metadata": {},
     "output_type": "execute_result"
    }
   ],
   "source": [
    "set_1 & set_2"
   ]
  },
  {
   "cell_type": "code",
   "execution_count": 19,
   "id": "1491413d-6ef5-46b5-8263-6dfbc784e40a",
   "metadata": {},
   "outputs": [
    {
     "data": {
      "text/plain": [
       "{5}"
      ]
     },
     "execution_count": 19,
     "metadata": {},
     "output_type": "execute_result"
    }
   ],
   "source": [
    "set_1.intersection(set_2)"
   ]
  },
  {
   "cell_type": "code",
   "execution_count": null,
   "id": "3104e75c-3906-4e46-a358-e3746ad8f1a2",
   "metadata": {},
   "outputs": [],
   "source": [
    "- 差集"
   ]
  },
  {
   "cell_type": "code",
   "execution_count": 20,
   "id": "be0830bf-c239-49f5-a147-eddd4a9a91a9",
   "metadata": {},
   "outputs": [
    {
     "data": {
      "text/plain": [
       "{1, 2, 3, 4}"
      ]
     },
     "execution_count": 20,
     "metadata": {},
     "output_type": "execute_result"
    }
   ],
   "source": [
    "set_1 - set_2"
   ]
  },
  {
   "cell_type": "code",
   "execution_count": 21,
   "id": "9b3e6d06-7ef5-4480-b008-5f5eb4a37403",
   "metadata": {},
   "outputs": [
    {
     "data": {
      "text/plain": [
       "{1, 2, 3, 4}"
      ]
     },
     "execution_count": 21,
     "metadata": {},
     "output_type": "execute_result"
    }
   ],
   "source": [
    "set_1.difference(set_2)"
   ]
  },
  {
   "cell_type": "code",
   "execution_count": null,
   "id": "1d3be01d-9e4a-49e1-a00b-f8e010355d7a",
   "metadata": {},
   "outputs": [],
   "source": [
    "- 对称差集，两个集合中不重复的元素"
   ]
  },
  {
   "cell_type": "code",
   "execution_count": 22,
   "id": "55068f63-e7d5-41a7-8760-f9dcedb65826",
   "metadata": {},
   "outputs": [
    {
     "data": {
      "text/plain": [
       "{1, 2, 3, 4, 6, 7, 8, 9}"
      ]
     },
     "execution_count": 22,
     "metadata": {},
     "output_type": "execute_result"
    }
   ],
   "source": [
    "set_1 ^ set_2"
   ]
  },
  {
   "cell_type": "code",
   "execution_count": 23,
   "id": "f6717d77-2414-48d1-9aef-7a0aa1f3daf1",
   "metadata": {},
   "outputs": [
    {
     "data": {
      "text/plain": [
       "{1, 2, 3, 4, 6, 7, 8, 9}"
      ]
     },
     "execution_count": 23,
     "metadata": {},
     "output_type": "execute_result"
    }
   ],
   "source": [
    "set_1.symmetric_difference(set_2)"
   ]
  },
  {
   "cell_type": "markdown",
   "id": "e65530f6-70b4-4cde-b638-067aeae95d6e",
   "metadata": {},
   "source": [
    "4. 集合关系判断"
   ]
  },
  {
   "cell_type": "code",
   "execution_count": 32,
   "id": "0c78269d-a491-479f-9b47-a8807c5a31b4",
   "metadata": {},
   "outputs": [],
   "source": [
    "set_1 = {1, 3,}\n",
    "sub_set = {1, 3}"
   ]
  },
  {
   "cell_type": "markdown",
   "id": "1c197a66-8bd7-44db-94b9-21d65dc22472",
   "metadata": {},
   "source": [
    "- 子集判断"
   ]
  },
  {
   "cell_type": "code",
   "execution_count": 33,
   "id": "2f5827c4-35ca-4d90-9cb1-6cbc0fce21ff",
   "metadata": {},
   "outputs": [
    {
     "name": "stdout",
     "output_type": "stream",
     "text": [
      "{1, 3} 是 {1, 3} 的子集： {True}\n",
      "{1, 3} 是 {1, 3} 的子集： {True}\n"
     ]
    }
   ],
   "source": [
    "print(f\"{sub_set} 是 {set_1} 的子集：\", {sub_set <= set_1})\n",
    "print(f\"{sub_set} 是 {set_1} 的子集：\", {sub_set.issubset(set_1)})"
   ]
  },
  {
   "cell_type": "markdown",
   "id": "aa80bac4-be9e-4ba8-bbf6-0bae490b5241",
   "metadata": {},
   "source": [
    "- 真子集判断"
   ]
  },
  {
   "cell_type": "code",
   "execution_count": 34,
   "id": "2811ebf1-1bd3-464d-a271-fe2e958daa51",
   "metadata": {},
   "outputs": [
    {
     "name": "stdout",
     "output_type": "stream",
     "text": [
      "{1, 3} 是 {1, 3} 的真子集： {False}\n"
     ]
    }
   ],
   "source": [
    "print(f\"{sub_set} 是 {set_1} 的真子集：\", {sub_set < set_1})"
   ]
  },
  {
   "cell_type": "markdown",
   "id": "930c23e7-898c-4d01-83a1-6f21e9e1dddd",
   "metadata": {},
   "source": [
    "- 超集判断"
   ]
  },
  {
   "cell_type": "code",
   "execution_count": 35,
   "id": "a29f90dd-073d-4894-814e-198b1d01178f",
   "metadata": {},
   "outputs": [
    {
     "name": "stdout",
     "output_type": "stream",
     "text": [
      "{1, 3} 是 {1, 3} 的超集： {True}\n",
      "{1, 3} 是 {1, 3} 的超集： {True}\n"
     ]
    }
   ],
   "source": [
    "print(f\"{set_1} 是 {sub_set} 的超集：\", {set_1 >= sub_set})\n",
    "print(f\"{set_1} 是 {sub_set} 的超集：\", {set_1.issuperset(sub_set)})"
   ]
  },
  {
   "cell_type": "markdown",
   "id": "58f04cf6-7e3d-405a-9fe3-1a03be23cecb",
   "metadata": {},
   "source": [
    "- 真超集判断"
   ]
  },
  {
   "cell_type": "code",
   "execution_count": 36,
   "id": "dd558033-2996-45de-9af4-766a25498b84",
   "metadata": {},
   "outputs": [
    {
     "name": "stdout",
     "output_type": "stream",
     "text": [
      "{1, 3} 是 {1, 3} 的超集： {False}\n"
     ]
    }
   ],
   "source": [
    "print(f\"{set_1} 是 {sub_set} 的超集：\", {set_1 > sub_set})"
   ]
  },
  {
   "cell_type": "markdown",
   "id": "b1c28f1a-0a80-434b-97f9-7932b86db658",
   "metadata": {},
   "source": [
    "- 不相交判断"
   ]
  },
  {
   "cell_type": "code",
   "execution_count": 42,
   "id": "31d56467-103d-403c-9fe0-294e26f0243a",
   "metadata": {},
   "outputs": [
    {
     "name": "stdout",
     "output_type": "stream",
     "text": [
      "{1, 3} 和 {10, 11} 不相交：True\n",
      "{1, 3} 和 {1, 11} 不相交：False\n"
     ]
    }
   ],
   "source": [
    "disjoin_set_1 = {10, 11}\n",
    "disjoin_set_2 = {1, 11}\n",
    "\n",
    "print(f\"{set_1} 和 {disjoin_set_1} 不相交：{set_1.isdisjoint(disjoin_set_1)}\")\n",
    "print(f\"{set_1} 和 {disjoin_set_2} 不相交：{set_1.isdisjoint(disjoin_set_2)}\")"
   ]
  },
  {
   "cell_type": "markdown",
   "id": "0bcbd921-e99f-41d0-82ba-0ea4e52eb95f",
   "metadata": {},
   "source": [
    "5. 集合更新"
   ]
  },
  {
   "cell_type": "code",
   "execution_count": 45,
   "id": "0ed79af4-ed26-4caf-8c33-bf400e17c7f0",
   "metadata": {},
   "outputs": [],
   "source": [
    "set_1 = {1, 2, 3, 4, 5}\n",
    "set_2 = {1, 3, 5, 7, 9}"
   ]
  },
  {
   "cell_type": "markdown",
   "id": "7f58ec84-7de5-47db-a2ba-a4d68abe789e",
   "metadata": {},
   "source": [
    "- 更新并集"
   ]
  },
  {
   "cell_type": "code",
   "execution_count": 46,
   "id": "e7f17624-bab9-438f-92fe-eaa23e1e6de2",
   "metadata": {},
   "outputs": [
    {
     "name": "stdout",
     "output_type": "stream",
     "text": [
      "更新并集： {1, 2, 3, 4, 5, 7, 9}\n"
     ]
    }
   ],
   "source": [
    "set_1_copy = set_1.copy()\n",
    "set_1_copy |= set_2  # 等价于 set_1.update(set_2)\n",
    "print(f\"更新并集：\", set_1_copy)"
   ]
  },
  {
   "cell_type": "markdown",
   "id": "8074092d-0cce-4b2b-89b5-1d9cf0bf269f",
   "metadata": {},
   "source": [
    "- 更新交集"
   ]
  },
  {
   "cell_type": "code",
   "execution_count": 48,
   "id": "28f0192b-3192-45de-8127-7cca7ecaac4f",
   "metadata": {},
   "outputs": [
    {
     "name": "stdout",
     "output_type": "stream",
     "text": [
      "更新并集： {1, 3, 5}\n"
     ]
    }
   ],
   "source": [
    "set_1_copy = set_1.copy()\n",
    "set_1_copy &= set_2  # 等价于 set_1_copy.intersection(set_2)\n",
    "print(f\"更新交集：\", set_1_copy)"
   ]
  },
  {
   "cell_type": "markdown",
   "id": "d442000c-ef48-4682-9837-54f84926300e",
   "metadata": {},
   "source": [
    "- 更新差集"
   ]
  },
  {
   "cell_type": "code",
   "execution_count": 49,
   "id": "5b5edc45-6868-4e79-a84d-893690c8b541",
   "metadata": {},
   "outputs": [
    {
     "name": "stdout",
     "output_type": "stream",
     "text": [
      "更新差集： {2, 4}\n"
     ]
    }
   ],
   "source": [
    "set_1_copy = set_1.copy()\n",
    "set_1_copy -= set_2  # 等价于 set_1_copy.difference_update(set_2)\n",
    "print(f\"更新差集：\", set_1_copy)"
   ]
  },
  {
   "cell_type": "markdown",
   "id": "d36da623-8f62-4f98-98c9-78355f94f2a4",
   "metadata": {},
   "source": [
    "- 更新对称差集"
   ]
  },
  {
   "cell_type": "code",
   "execution_count": 51,
   "id": "a195ccca-6d24-4d38-87dc-5193fefb887b",
   "metadata": {},
   "outputs": [
    {
     "name": "stdout",
     "output_type": "stream",
     "text": [
      "更新对称差集： {2, 4, 7, 9}\n"
     ]
    }
   ],
   "source": [
    "set_1_copy = set_1.copy()\n",
    "set_1_copy ^= set_2  # 等价于 set_1_copy.difference_update(set_2)\n",
    "print(f\"更新对称差集：\", set_1_copy)"
   ]
  },
  {
   "cell_type": "markdown",
   "id": "9b521a97-1d25-4afe-9181-7f6bb20a22b6",
   "metadata": {},
   "source": [
    "6. 注意事项\n",
    "\n",
    "- 集合是无须的，不能通过索引访问\n",
    "- 集合元素必须是可哈希的（不可变类型）\n",
    "- 空集合要用set()创建，不能{}\n",
    "- 运算符和方法的主要区别：运算符可以用于多个集合，而方法通常只能用于两个集合"
   ]
  }
 ],
 "metadata": {
  "kernelspec": {
   "display_name": "Python 3 (ipykernel)",
   "language": "python",
   "name": "python3"
  },
  "language_info": {
   "codemirror_mode": {
    "name": "ipython",
    "version": 3
   },
   "file_extension": ".py",
   "mimetype": "text/x-python",
   "name": "python",
   "nbconvert_exporter": "python",
   "pygments_lexer": "ipython3",
   "version": "3.12.9"
  }
 },
 "nbformat": 4,
 "nbformat_minor": 5
}
