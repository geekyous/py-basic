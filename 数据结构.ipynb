{
 "cells": [
  {
   "cell_type": "markdown",
   "id": "e443e1fa-db10-4651-87df-cc4de4cec7d4",
   "metadata": {},
   "source": [
    "# 数据结构"
   ]
  },
  {
   "cell_type": "markdown",
   "id": "9e88d0cf-7a41-4bec-8fb6-adaa3d1f26fe",
   "metadata": {},
   "source": [
    "## 列表详解"
   ]
  },
  {
   "cell_type": "markdown",
   "id": "dfc803c1-7f37-40d9-abbc-c2e91d90e172",
   "metadata": {},
   "source": [
    "1. list.append(x), 在列表末尾添加一项。 类似于 a[len(a):] = [x]。"
   ]
  },
  {
   "cell_type": "code",
   "execution_count": 47,
   "id": "e520ba7f-c84d-4474-ac62-04d84419d011",
   "metadata": {},
   "outputs": [
    {
     "data": {
      "text/plain": [
       "[1, 2]"
      ]
     },
     "execution_count": 47,
     "metadata": {},
     "output_type": "execute_result"
    }
   ],
   "source": [
    "a_list = []\n",
    "a_list.append(1)\n",
    "a_list.append(2)\n",
    "a_list"
   ]
  },
  {
   "cell_type": "markdown",
   "id": "a1ad46cb-be26-4cea-842b-94f0ca65d59f",
   "metadata": {},
   "source": [
    "2. list.extend(iterable), 通过添加来自 iterable 的所有项来扩展列表。 类似于 a[len(a):] = iterable。"
   ]
  },
  {
   "cell_type": "code",
   "execution_count": 5,
   "id": "53fe9fbc-a0e1-411e-81ad-d2625a71aee4",
   "metadata": {},
   "outputs": [
    {
     "data": {
      "text/plain": [
       "[1, 2, 3, 4]"
      ]
     },
     "execution_count": 5,
     "metadata": {},
     "output_type": "execute_result"
    }
   ],
   "source": [
    "a_list = [1, 2]\n",
    "b_list = [3, 4]\n",
    "a_list.extend(b_list)\n",
    "a_list"
   ]
  },
  {
   "cell_type": "markdown",
   "id": "1fd2e030-064f-4f03-a5ef-383d2d6d37f8",
   "metadata": {},
   "source": [
    "3. list.insert(i, x),在指定位置插入元素。第一个参数是插入元素的索引，因此，a.insert(0, x) 在列表开头插入元素， a.insert(len(a), x) 等同于 a.append(x) 。"
   ]
  },
  {
   "cell_type": "code",
   "execution_count": 14,
   "id": "cbbcb5da-3ace-4320-93ef-52ff53c89b12",
   "metadata": {},
   "outputs": [
    {
     "data": {
      "text/plain": [
       "['one', 'two', 'three']"
      ]
     },
     "execution_count": 14,
     "metadata": {},
     "output_type": "execute_result"
    }
   ],
   "source": [
    "a_list = []\n",
    "a_list.insert(0, 'one')\n",
    "a_list.insert(2, 'three')\n",
    "a_list.insert(1, 'two')\n",
    "a_list"
   ]
  },
  {
   "cell_type": "markdown",
   "id": "05753260-eaca-4b06-a763-c86d5d17e333",
   "metadata": {},
   "source": [
    "4. list.remove(x), 从列表中删除第一个值为 x 的元素。未找到指定元素时，触发 ValueError 异常。"
   ]
  },
  {
   "cell_type": "code",
   "execution_count": 15,
   "id": "c8afe245-dadf-4cba-a1b3-285cff31e094",
   "metadata": {},
   "outputs": [
    {
     "data": {
      "text/plain": [
       "['two', 'three']"
      ]
     },
     "execution_count": 15,
     "metadata": {},
     "output_type": "execute_result"
    }
   ],
   "source": [
    "a_list.remove('one')\n",
    "a_list"
   ]
  },
  {
   "cell_type": "code",
   "execution_count": 16,
   "id": "e87347d9-7887-4c6f-aad8-9360acd46ecb",
   "metadata": {},
   "outputs": [
    {
     "ename": "ValueError",
     "evalue": "list.remove(x): x not in list",
     "output_type": "error",
     "traceback": [
      "\u001b[31m---------------------------------------------------------------------------\u001b[39m",
      "\u001b[31mValueError\u001b[39m                                Traceback (most recent call last)",
      "\u001b[36mCell\u001b[39m\u001b[36m \u001b[39m\u001b[32mIn[16]\u001b[39m\u001b[32m, line 1\u001b[39m\n\u001b[32m----> \u001b[39m\u001b[32m1\u001b[39m \u001b[43ma_list\u001b[49m\u001b[43m.\u001b[49m\u001b[43mremove\u001b[49m\u001b[43m(\u001b[49m\u001b[33;43m'\u001b[39;49m\u001b[33;43mone\u001b[39;49m\u001b[33;43m'\u001b[39;49m\u001b[43m)\u001b[49m\n\u001b[32m      2\u001b[39m a_list\n",
      "\u001b[31mValueError\u001b[39m: list.remove(x): x not in list"
     ]
    }
   ],
   "source": [
    "a_list.remove('one')\n",
    "a_list"
   ]
  },
  {
   "cell_type": "markdown",
   "id": "e6f93162-e3dc-441e-b964-521216811c91",
   "metadata": {},
   "source": [
    "5. list.pop([i]),移除列表中给定位置上的条目，并返回该条目。 如果未指定索引号，则 a.pop() 将移除并返回列表中的最后一个条目。 如果列表为空或索引号在列表索引范围之外则会引发 IndexError。"
   ]
  },
  {
   "cell_type": "code",
   "execution_count": 60,
   "id": "a745d108-96b4-464c-bff5-af043e74a4b8",
   "metadata": {},
   "outputs": [
    {
     "name": "stdout",
     "output_type": "stream",
     "text": [
      "num 4\n",
      "a_list [1, 2, 3]\n"
     ]
    }
   ],
   "source": [
    "a_list = [1, 2, 3, 4]\n",
    "num = a_list.pop()\n",
    "print(\"num\", num)\n",
    "print(\"a_list\", a_list)"
   ]
  },
  {
   "cell_type": "code",
   "execution_count": 61,
   "id": "692dbd6d-aeaf-43c7-a5fb-70764713d506",
   "metadata": {},
   "outputs": [
    {
     "name": "stdout",
     "output_type": "stream",
     "text": [
      "num 1\n",
      "a_list [2, 3]\n"
     ]
    }
   ],
   "source": [
    "num = a_list.pop(0)\n",
    "print(\"num\", num)\n",
    "print(\"a_list\", a_list)"
   ]
  },
  {
   "cell_type": "code",
   "execution_count": 24,
   "id": "a0cc0239-5b7a-48c9-b579-5db212d97b8b",
   "metadata": {},
   "outputs": [
    {
     "ename": "IndexError",
     "evalue": "pop index out of range",
     "output_type": "error",
     "traceback": [
      "\u001b[31m---------------------------------------------------------------------------\u001b[39m",
      "\u001b[31mIndexError\u001b[39m                                Traceback (most recent call last)",
      "\u001b[36mCell\u001b[39m\u001b[36m \u001b[39m\u001b[32mIn[24]\u001b[39m\u001b[32m, line 1\u001b[39m\n\u001b[32m----> \u001b[39m\u001b[32m1\u001b[39m \u001b[43ma_list\u001b[49m\u001b[43m.\u001b[49m\u001b[43mpop\u001b[49m\u001b[43m(\u001b[49m\u001b[32;43m5\u001b[39;49m\u001b[43m)\u001b[49m\n\u001b[32m      2\u001b[39m a_list\n",
      "\u001b[31mIndexError\u001b[39m: pop index out of range"
     ]
    }
   ],
   "source": [
    "a_list.pop(5)\n",
    "a_list"
   ]
  },
  {
   "cell_type": "markdown",
   "id": "4c181eb1-975f-40e5-a426-082da3580d42",
   "metadata": {},
   "source": [
    "6. list.clear(),移除列表中的所有项。 类似于 del a[:]。"
   ]
  },
  {
   "cell_type": "code",
   "execution_count": 25,
   "id": "abd562d1-422a-4c86-9e35-1675eb394ca1",
   "metadata": {},
   "outputs": [
    {
     "data": {
      "text/plain": [
       "[]"
      ]
     },
     "execution_count": 25,
     "metadata": {},
     "output_type": "execute_result"
    }
   ],
   "source": [
    "a_list = [1, 2, 3, 4]\n",
    "a_list.clear()\n",
    "a_list"
   ]
  },
  {
   "cell_type": "markdown",
   "id": "cc95fcd7-da3f-4520-ad7f-ad66abd6d799",
   "metadata": {},
   "source": [
    "7. list.index(x[, start[, end]]),返回列表中第一个值为 x 的元素的零基索引。未找到指定元素时，触发 ValueError 异常。可选参数 start 和 end 是切片符号，用于将搜索限制为列表的特定子序列。返回的索引是相对于整个序列的开始计算的，而不是 start 参数。"
   ]
  },
  {
   "cell_type": "code",
   "execution_count": 26,
   "id": "b328fdc8-981c-4c79-b53c-5604e82394b4",
   "metadata": {},
   "outputs": [
    {
     "data": {
      "text/plain": [
       "1"
      ]
     },
     "execution_count": 26,
     "metadata": {},
     "output_type": "execute_result"
    }
   ],
   "source": [
    "a_list = [1, 2, 3, 4]\n",
    "a_list.index(2)"
   ]
  },
  {
   "cell_type": "code",
   "execution_count": 35,
   "id": "9f413cac-f6d7-4d04-b171-ab8ea23a5e66",
   "metadata": {},
   "outputs": [
    {
     "ename": "ValueError",
     "evalue": "4 is not in list",
     "output_type": "error",
     "traceback": [
      "\u001b[31m---------------------------------------------------------------------------\u001b[39m",
      "\u001b[31mValueError\u001b[39m                                Traceback (most recent call last)",
      "\u001b[36mCell\u001b[39m\u001b[36m \u001b[39m\u001b[32mIn[35]\u001b[39m\u001b[32m, line 1\u001b[39m\n\u001b[32m----> \u001b[39m\u001b[32m1\u001b[39m \u001b[43ma_list\u001b[49m\u001b[43m.\u001b[49m\u001b[43mindex\u001b[49m\u001b[43m(\u001b[49m\u001b[32;43m4\u001b[39;49m\u001b[43m,\u001b[49m\u001b[43m \u001b[49m\u001b[32;43m1\u001b[39;49m\u001b[43m,\u001b[49m\u001b[43m \u001b[49m\u001b[32;43m3\u001b[39;49m\u001b[43m)\u001b[49m\n",
      "\u001b[31mValueError\u001b[39m: 4 is not in list"
     ]
    }
   ],
   "source": [
    "a_list.index(4, 1, 3)"
   ]
  },
  {
   "cell_type": "code",
   "execution_count": 36,
   "id": "e7075399-cf5b-4b23-9a9a-93f8cc0188f0",
   "metadata": {},
   "outputs": [
    {
     "data": {
      "text/plain": [
       "3"
      ]
     },
     "execution_count": 36,
     "metadata": {},
     "output_type": "execute_result"
    }
   ],
   "source": [
    "a_list.index(4, 1, 4)"
   ]
  },
  {
   "cell_type": "markdown",
   "id": "854c0fbc-890e-42f3-96c6-4977a2d5dfd3",
   "metadata": {},
   "source": [
    "8. list.count(x), 返回列表中元素 x 出现的次数。"
   ]
  },
  {
   "cell_type": "code",
   "execution_count": 38,
   "id": "3ce6df74-c9d4-4c54-9676-9c10cbdd0504",
   "metadata": {},
   "outputs": [
    {
     "data": {
      "text/plain": [
       "2"
      ]
     },
     "execution_count": 38,
     "metadata": {},
     "output_type": "execute_result"
    }
   ],
   "source": [
    "a_list = [1, 2, 3, 4, 4]\n",
    "a_list.count(4)"
   ]
  },
  {
   "cell_type": "markdown",
   "id": "edc7de5f-ccf1-45e8-9c15-bedace5f3c30",
   "metadata": {},
   "source": [
    "9. list.sort(*, key=None, reverse=False), 就地排序列表中的元素"
   ]
  },
  {
   "cell_type": "code",
   "execution_count": 39,
   "id": "8d5f534a-7fb4-4c14-852c-1aa0a0d6a1cb",
   "metadata": {},
   "outputs": [
    {
     "data": {
      "text/plain": [
       "[1, 2, 3, 4, 5, 6]"
      ]
     },
     "execution_count": 39,
     "metadata": {},
     "output_type": "execute_result"
    }
   ],
   "source": [
    "a_list = [1, 2, 4, 3, 6, 5]\n",
    "a_list.sort()\n",
    "a_list"
   ]
  },
  {
   "cell_type": "markdown",
   "id": "43ed6e48-c560-4054-8856-a223b06cae4d",
   "metadata": {},
   "source": [
    "10. list.reverse(), 翻转列表中的元素。"
   ]
  },
  {
   "cell_type": "code",
   "execution_count": 41,
   "id": "ef18e0cb-20b2-406c-9735-05ebe1e57bf3",
   "metadata": {},
   "outputs": [
    {
     "data": {
      "text/plain": [
       "[4, 3, 2, 1]"
      ]
     },
     "execution_count": 41,
     "metadata": {},
     "output_type": "execute_result"
    }
   ],
   "source": [
    "a_list = [1, 2, 3, 4]\n",
    "a_list.reverse()\n",
    "a_list"
   ]
  },
  {
   "cell_type": "markdown",
   "id": "ba0f7369-77b8-43bf-a0bc-346ff2f83217",
   "metadata": {},
   "source": [
    "11. list.copy(),返回列表的浅拷贝。 类似于 a[:]。"
   ]
  },
  {
   "cell_type": "code",
   "execution_count": 43,
   "id": "7f35a44f-094e-4676-862f-15893e5c4317",
   "metadata": {},
   "outputs": [
    {
     "name": "stdout",
     "output_type": "stream",
     "text": [
      "b_list [1, 2, 3, 4]\n",
      "b_list [1, 2, 3]\n",
      "a_list [1, 2, 3, 4]\n"
     ]
    }
   ],
   "source": [
    "# 浅拷贝-非引用对象\n",
    "\n",
    "a_list = [1, 2, 3, 4]\n",
    "b_list = a_list.copy()\n",
    "print(\"b_list\", b_list)\n",
    "b_list.pop()\n",
    "print(\"b_list\", b_list)\n",
    "print(\"a_list\", a_list)"
   ]
  },
  {
   "cell_type": "code",
   "execution_count": 45,
   "id": "fec5c9e1-b168-49d3-a777-5e08e3f567c7",
   "metadata": {},
   "outputs": [
    {
     "name": "stdout",
     "output_type": "stream",
     "text": [
      "b_list [1, 2, 3, 4, [11, 12, 23]]\n",
      "b_list [1, 2, 3, 4, [11, 12]]\n",
      "a_list [1, 2, 3, 4, [11, 12]]\n"
     ]
    }
   ],
   "source": [
    "# 浅拷贝-引用对象\n",
    "\n",
    "sub_list = [11, 12, 13]\n",
    "a_list = [1, 2, 3, 4, sub_list]\n",
    "b_list = a_list.copy()\n",
    "print(\"b_list\", b_list)\n",
    "b_list[-1].pop()\n",
    "print(\"b_list\", b_list)\n",
    "print(\"a_list\", a_list)"
   ]
  },
  {
   "cell_type": "markdown",
   "id": "b33c67a1-9033-4414-a50f-124cee0d7952",
   "metadata": {},
   "source": [
    "12. 列表实现堆栈,栈式先进后出的线性结构,可采用append(),在列表增加元素实现在栈顶添加元素,采用pop()不指定索引从栈顶取出元素"
   ]
  },
  {
   "cell_type": "code",
   "execution_count": 48,
   "id": "90384116-34e8-4b60-8c0a-7d54fe7a0df8",
   "metadata": {},
   "outputs": [
    {
     "name": "stdout",
     "output_type": "stream",
     "text": [
      "a_list [1, 2]\n",
      "a_list [1]\n"
     ]
    }
   ],
   "source": [
    "a_list = []\n",
    "a_list.append(1)  # 压栈\n",
    "a_list.append(2)  # 压栈\n",
    "print(\"a_list\", a_list)\n",
    "a_list.pop()  # 出栈\n",
    "print(\"a_list\", a_list)"
   ]
  },
  {
   "cell_type": "markdown",
   "id": "fd9840a3-c898-44b2-88e1-6547a6413cfb",
   "metadata": {},
   "source": [
    "13. 列表实现队列, 队列先进先出,可采用append(),在队列增加元素添加元素,采用pop(0)取出元素"
   ]
  },
  {
   "cell_type": "code",
   "execution_count": 50,
   "id": "ec1ff921-d193-4e09-a27a-64be8708a65e",
   "metadata": {},
   "outputs": [
    {
     "name": "stdout",
     "output_type": "stream",
     "text": [
      "a_list [1, 2]\n",
      "a_list [2]\n"
     ]
    }
   ],
   "source": [
    "a_list = []\n",
    "a_list.append(1)  # 入队列\n",
    "a_list.append(2)  # 入队列\n",
    "print(\"a_list\", a_list)\n",
    "a_list.pop(0)  # 出队列\n",
    "print(\"a_list\", a_list)"
   ]
  },
  {
   "cell_type": "markdown",
   "id": "d45eccd6-f763-4659-a9d4-deaa936148f4",
   "metadata": {},
   "source": [
    "14. 列表推导式, 列表推导式创建列表的方式更简洁。常见的用法为，对序列或可迭代对象中的每个元素应用某种操作，用生成的结果创建新的列表；或用满足特定条件的元素创建子序列。"
   ]
  },
  {
   "cell_type": "code",
   "execution_count": 53,
   "id": "a01d1f44-5dc6-451e-b501-ac4e5e47d9c7",
   "metadata": {},
   "outputs": [
    {
     "data": {
      "text/plain": [
       "[0, 1, 4, 9, 16, 25, 36, 49, 64, 81]"
      ]
     },
     "execution_count": 53,
     "metadata": {},
     "output_type": "execute_result"
    }
   ],
   "source": [
    "# 求10数的平方\n",
    "squares = [x**2 for x in range(10)]\n",
    "squares"
   ]
  },
  {
   "cell_type": "code",
   "execution_count": 55,
   "id": "d722f4a8-ee8f-47b3-9b35-aa5bc5cf97cc",
   "metadata": {},
   "outputs": [
    {
     "data": {
      "text/plain": [
       "[0, 1, 4, 9, 16, 25, 36, 49, 64, 81]"
      ]
     },
     "execution_count": 55,
     "metadata": {},
     "output_type": "execute_result"
    }
   ],
   "source": [
    "# 等价于\n",
    "squares = []\n",
    "for x in range(10):\n",
    "    squares.append(x**2)\n",
    "squares"
   ]
  },
  {
   "cell_type": "markdown",
   "id": "e75b6087-d637-4675-bf09-42eab0f78ae0",
   "metadata": {},
   "source": [
    "列表推导式的方括号内包含以下内容：一个表达式，后面为一个 for 子句，然后，是零个或多个 for 或 if 子句。结果是由表达式依据 for 和 if 子句求值计算而得出一个新列表。 举例来说，以下列表推导式将两个列表中不相等的元素组合起来："
   ]
  },
  {
   "cell_type": "code",
   "execution_count": 56,
   "id": "1d407a10-5bc4-45d5-90e7-f4a2c68aa1fe",
   "metadata": {},
   "outputs": [
    {
     "data": {
      "text/plain": [
       "[(1, 3), (1, 4), (2, 3), (2, 1), (2, 4), (3, 1), (3, 4)]"
      ]
     },
     "execution_count": 56,
     "metadata": {},
     "output_type": "execute_result"
    }
   ],
   "source": [
    "[(x, y) for x in [1,2,3] for y in [3,1,4] if x != y]"
   ]
  },
  {
   "cell_type": "markdown",
   "id": "358832b4-4c1d-427b-9178-991caf865767",
   "metadata": {},
   "source": [
    "15. 嵌套的列表推导式"
   ]
  },
  {
   "cell_type": "markdown",
   "id": "68df1259-a241-4ae7-826c-904ba70cfc0b",
   "metadata": {},
   "source": [
    "16. del 语句,可以按索引而不是按值从一个列表移除条目： 这不同于返回一个值的 pop() 方法。 del 语句还可被用来从列表移除切片或清空整个列表（之前我们通过将一个空列表赋值给切片实现此功能）。 例如:"
   ]
  },
  {
   "cell_type": "code",
   "execution_count": 59,
   "id": "a3648e2a-3da6-442c-8c26-144457f61e37",
   "metadata": {},
   "outputs": [
    {
     "data": {
      "text/plain": [
       "[2, 3, 4, 5]"
      ]
     },
     "execution_count": 59,
     "metadata": {},
     "output_type": "execute_result"
    }
   ],
   "source": [
    "a_list = [1, 2, 3, 4, 5]\n",
    "del a_list[0]\n",
    "a_list"
   ]
  },
  {
   "cell_type": "code",
   "execution_count": null,
   "id": "54e9856b-b7ec-4db9-a546-0bcc17357c0e",
   "metadata": {},
   "outputs": [],
   "source": [
    "del 也可以用来删除整个变量："
   ]
  },
  {
   "cell_type": "code",
   "execution_count": null,
   "id": "65647844-8f44-49e8-beb0-223548b8d360",
   "metadata": {},
   "outputs": [],
   "source": [
    "del a_list"
   ]
  }
 ],
 "metadata": {
  "kernelspec": {
   "display_name": "Python 3 (ipykernel)",
   "language": "python",
   "name": "python3"
  },
  "language_info": {
   "codemirror_mode": {
    "name": "ipython",
    "version": 3
   },
   "file_extension": ".py",
   "mimetype": "text/x-python",
   "name": "python",
   "nbconvert_exporter": "python",
   "pygments_lexer": "ipython3",
   "version": "3.12.4"
  }
 },
 "nbformat": 4,
 "nbformat_minor": 5
}
