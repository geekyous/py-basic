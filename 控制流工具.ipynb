{
 "cells": [
  {
   "cell_type": "markdown",
   "id": "9ca0fff0-5a78-41e5-826a-8d5bb6b18bdf",
   "metadata": {},
   "source": [
    "# \n",
    "\n",
    "\n",
    "\n",
    "\n",
    "\n",
    "\n",
    "\n",
    "更多控制流工具"
   ]
  },
  {
   "cell_type": "markdown",
   "id": "d1938471-bb7e-4843-a1e7-e8fc62fc1c58",
   "metadata": {},
   "source": [
    "## 4.1 if语句"
   ]
  },
  {
   "cell_type": "code",
   "execution_count": null,
   "id": "797a001e-adf6-4018-a2f1-b9d9a4143ff1",
   "metadata": {},
   "outputs": [],
   "source": [
    "x = int(input(\"Please enter an integer: \"))\n",
    "\n",
    "if x < 0:\n",
    "    x = 0\n",
    "    print(\"Negative changed to Zero\")\n",
    "elif x == 0:\n",
    "    print(\"Zero\")\n",
    "elif x == 1:\n",
    "    print(\"Single\")\n",
    "else:\n",
    "    print(\"More\")"
   ]
  },
  {
   "cell_type": "markdown",
   "id": "c84a5666-cca2-443f-9b3c-be5c8effb6a7",
   "metadata": {},
   "source": [
    "## 4.2 for 语句"
   ]
  },
  {
   "cell_type": "markdown",
   "id": "eb075a49-553a-4321-97f9-c679844a9ee7",
   "metadata": {},
   "source": [
    "1. 迭代列表"
   ]
  },
  {
   "cell_type": "code",
   "execution_count": null,
   "id": "fcdd9ae7-86e6-432d-8c1e-725efcd708b0",
   "metadata": {},
   "outputs": [],
   "source": [
    "words = [\"cat\", \"window\", \"defenestrate\"]\n",
    "for w in words:\n",
    "    print(w, len(w))"
   ]
  },
  {
   "cell_type": "markdown",
   "id": "5d6525b3-0d38-48d0-aa23-a900c58c56e7",
   "metadata": {},
   "source": [
    "2. 很难在迭代过程中同时修改内容\n",
    "- 因为这会引发 **迭代器内部状态与序列状态不一致**,python的迭代器基于索引工作,当删除元素时,后续元素的索引会变化,但迭代器不知道这个变化;\n",
    "- 更简单的方法是在迭代的过程中创建被迭代对象的副本或者创建新的对象."
   ]
  },
  {
   "cell_type": "code",
   "execution_count": null,
   "id": "2e87f237-a04a-4bc6-8875-28e2db4b5c20",
   "metadata": {},
   "outputs": [],
   "source": [
    "users = {\"Hans\": \"active\", \"Éléonore\": \"inactive\", \"景太郎\": \"active\"}"
   ]
  },
  {
   "cell_type": "code",
   "execution_count": null,
   "id": "0942d7e1-5cc2-4e08-bf6c-684818071333",
   "metadata": {},
   "outputs": [],
   "source": [
    "# 在迭代的同时删除被迭代对象会引发异常\n",
    "\n",
    "for user, status in users.items():\n",
    "    if status == \"inactive\":\n",
    "        del users[user]"
   ]
  },
  {
   "cell_type": "code",
   "execution_count": null,
   "id": "1a97ad62-65ac-480f-a5f5-b09e8f3da9a2",
   "metadata": {},
   "outputs": [],
   "source": [
    "# 创建一个副本进行迭代\n",
    "for user, status in users.copy().items():\n",
    "    if status == \"inactive\":\n",
    "        del users[user]"
   ]
  },
  {
   "cell_type": "code",
   "execution_count": null,
   "id": "0aee8a52-ee0a-471e-99bb-59f93544ccc9",
   "metadata": {},
   "outputs": [],
   "source": [
    "users"
   ]
  },
  {
   "cell_type": "code",
   "execution_count": null,
   "id": "8ad04256-6e3e-430c-9498-48df9ddc7176",
   "metadata": {},
   "outputs": [],
   "source": [
    "# 创建一个新的对象\n",
    "active_users = {}\n",
    "for user, status in users.items():\n",
    "    if status == \"active\":\n",
    "        active_users[user] = status"
   ]
  },
  {
   "cell_type": "code",
   "execution_count": null,
   "id": "f5d948a8-5b2b-440f-b6df-8d0b7431ce2b",
   "metadata": {},
   "outputs": [],
   "source": [
    "active_users"
   ]
  },
  {
   "cell_type": "markdown",
   "id": "e19d759e-95b2-44f8-b688-58fcc879110f",
   "metadata": {},
   "source": [
    "## 4.3 range() 函数"
   ]
  },
  {
   "cell_type": "markdown",
   "id": "556e35c9-fdc2-487e-8290-586c43548fa1",
   "metadata": {},
   "source": [
    "1. 内置函数 range() 用于生成等差数列,生成序列不含括给定的终止值"
   ]
  },
  {
   "cell_type": "code",
   "execution_count": null,
   "id": "fb616a80-f081-4be5-ba32-462a18d359b4",
   "metadata": {},
   "outputs": [],
   "source": [
    "# 输出 0~4\n",
    "for i in range(5):\n",
    "    print(i)"
   ]
  },
  {
   "cell_type": "markdown",
   "id": "4c501066-8c71-4613-9fb7-7e22aa59897c",
   "metadata": {},
   "source": [
    "2. range()可以不从0开始,且可以按给定的步长递增"
   ]
  },
  {
   "cell_type": "code",
   "execution_count": null,
   "id": "c49ffe63-f08a-4784-8817-c05f47577d8d",
   "metadata": {},
   "outputs": [],
   "source": [
    "# 从 5 开始\n",
    "list(range(5, 10))"
   ]
  },
  {
   "cell_type": "code",
   "execution_count": null,
   "id": "5274e080-e63f-46c2-9039-b6bf5f66936c",
   "metadata": {},
   "outputs": [],
   "source": [
    "# 从 0 开始且步长为 3\n",
    "list(range(0, 10, 3))"
   ]
  },
  {
   "cell_type": "code",
   "execution_count": null,
   "id": "1610d7f1-2cad-4a64-8e37-4f3145a806af",
   "metadata": {},
   "outputs": [],
   "source": [
    "list(range(-10, -100, -30))"
   ]
  },
  {
   "cell_type": "code",
   "execution_count": null,
   "id": "8468077d-646a-4dce-aff6-cca95c6024de",
   "metadata": {},
   "outputs": [],
   "source": [
    "list(range(-10, 100, 30))"
   ]
  },
  {
   "cell_type": "markdown",
   "id": "75d908c4-6b22-4b7e-801c-15d85d6cadc7",
   "metadata": {},
   "source": [
    "3. 若要按照索引迭代序列,可以组合使用 range() 和 len(),当然使用 enumerate() 函数方便"
   ]
  },
  {
   "cell_type": "code",
   "execution_count": null,
   "id": "905f6e91-8faa-4147-8c37-a55fc0cc3efd",
   "metadata": {},
   "outputs": [],
   "source": [
    "sentence = [\"Mary\", \"Had\", \"a\", \"little\", \"lamb\"]\n",
    "for i in range(len(sentence)):\n",
    "    print(i, sentence[i])"
   ]
  },
  {
   "cell_type": "code",
   "execution_count": null,
   "id": "99ba4cb4-00ed-437d-80b8-d0a45eb2e118",
   "metadata": {},
   "outputs": [],
   "source": [
    "for i, word in enumerate(sentence):\n",
    "    print(i, word)"
   ]
  },
  {
   "cell_type": "markdown",
   "id": "9aaab75d-28c1-4d2a-b539-3eeaedb4515c",
   "metadata": {},
   "source": [
    "4. range()只有在被迭代时才会所期望的列表项,并没有真正生成过一个含有全部项的列表,直接输出 range()"
   ]
  },
  {
   "cell_type": "code",
   "execution_count": null,
   "id": "fa68610f-a29c-4739-b0d1-2ae3876ce830",
   "metadata": {},
   "outputs": [],
   "source": [
    "range(10)"
   ]
  },
  {
   "cell_type": "markdown",
   "id": "214173a0-3c20-4016-b666-0eb96cd16eb8",
   "metadata": {},
   "source": [
    "## 4.4 break 和 continue 语句"
   ]
  },
  {
   "cell_type": "markdown",
   "id": "05aa5fce-a05b-4db8-851b-efb97bb5c889",
   "metadata": {},
   "source": [
    "1. break 语句跳出最近一层的 for 或者 while 循环"
   ]
  },
  {
   "cell_type": "code",
   "execution_count": null,
   "id": "e88abf52-1ce2-45ec-ba28-1a9e38303cd4",
   "metadata": {},
   "outputs": [],
   "source": [
    "for num in range(10):\n",
    "    if num == 5:\n",
    "        break\n",
    "    print(num)"
   ]
  },
  {
   "cell_type": "code",
   "execution_count": null,
   "id": "e2c2cd03-4c1a-41d5-9d13-17142883bdf0",
   "metadata": {},
   "outputs": [],
   "source": [
    "for n in range(2, 10):\n",
    "    for x in range(2, n):\n",
    "        if n % x == 0:\n",
    "            print(f\"{n} equals {x} * {n//x}\")\n",
    "            break\n",
    "    "
   ]
  },
  {
   "cell_type": "markdown",
   "id": "77208cbf-b1d1-4026-a277-8ca5b34ba6ba",
   "metadata": {},
   "source": [
    "2. continue 语句将继续执行循环的下一次循环"
   ]
  },
  {
   "cell_type": "code",
   "execution_count": null,
   "id": "0b47759a-e103-4328-bafd-1ab630528b4f",
   "metadata": {},
   "outputs": [],
   "source": [
    "for num in range(10):\n",
    "    if num == 5:\n",
    "        continue\n",
    "    print(num)"
   ]
  },
  {
   "cell_type": "markdown",
   "id": "57ce610a-e9a4-4c12-8fdb-81a92521e46e",
   "metadata": {},
   "source": [
    "## 4.5 循环的else的语句"
   ]
  },
  {
   "cell_type": "markdown",
   "id": "2e02b5f9-0ab3-4f97-95b2-e16427513971",
   "metadata": {},
   "source": [
    "1. 在 for 或 while 循环中 break 中语句可能 else 语句. 如果循环在未在执行 break 语句情况下结束, else语句将会执行"
   ]
  },
  {
   "cell_type": "code",
   "execution_count": null,
   "id": "0ff828a2-659f-45ad-aa03-79af889695f9",
   "metadata": {},
   "outputs": [],
   "source": [
    "for num in range(10):\n",
    "    if num == 10:\n",
    "        break\n",
    "    print(num)\n",
    "else:\n",
    "    print(\"no 10\")"
   ]
  },
  {
   "cell_type": "markdown",
   "id": "48442883-082a-4332-9d6c-aa02a389ef60",
   "metadata": {},
   "source": [
    "## 4.6 pass 语句"
   ]
  },
  {
   "cell_type": "markdown",
   "id": "3eb0cec1-8d4b-4515-a99a-dca5150ae44e",
   "metadata": {},
   "source": [
    "pass 语句不会执行任何动作.语法上需要一个语句,但程序不需要执行任何动作时,可以该语句.例如:"
   ]
  },
  {
   "cell_type": "markdown",
   "id": "62ab4060-265c-4c1c-9f47-04dcd572c7a0",
   "metadata": {},
   "source": [
    "1. 无限等待"
   ]
  },
  {
   "cell_type": "code",
   "execution_count": null,
   "id": "a6217a1e-d490-43b6-885a-720bb32581ce",
   "metadata": {},
   "outputs": [],
   "source": [
    "while True:\n",
    "    pass  # 无限等待键盘中断"
   ]
  },
  {
   "cell_type": "markdown",
   "id": "3e6057e6-7b88-4b4e-8ef3-11b531b13a27",
   "metadata": {},
   "source": [
    "2. 创建一个最小的类"
   ]
  },
  {
   "cell_type": "code",
   "execution_count": null,
   "id": "938b7237-58b3-4885-8090-21425f3ec035",
   "metadata": {},
   "outputs": [],
   "source": [
    "class EmptyClass:\n",
    "    pass"
   ]
  },
  {
   "cell_type": "markdown",
   "id": "1fdc6d52-2664-4278-84c2-626290ccad33",
   "metadata": {},
   "source": [
    "3. 用作函数体或者条件语句的占位符"
   ]
  },
  {
   "cell_type": "code",
   "execution_count": null,
   "id": "3d51b82e-d7fe-4604-9086-1e95c799517c",
   "metadata": {},
   "outputs": [],
   "source": [
    "def init_log(*args):\n",
    "    pass"
   ]
  },
  {
   "cell_type": "markdown",
   "id": "28fcd8fa-1b61-4ee1-bbd1-2c6bcb247673",
   "metadata": {},
   "source": [
    "## 4.7 match 语句"
   ]
  },
  {
   "cell_type": "markdown",
   "id": "c837d08d-e500-42e2-962b-0a5b87513854",
   "metadata": {},
   "source": [
    "1. match 语句接受一个表达式并把它的值与一个或多个 case 块给出的一系列模式进行比较,如果没有 case 匹配成功，则不会执行任何分支。"
   ]
  },
  {
   "cell_type": "markdown",
   "id": "dd7c4efd-5e1e-495b-8a55-9122c1f8ba86",
   "metadata": {},
   "source": [
    "2. “变量名” _ 被作为 通配符 并必定会匹配成功。"
   ]
  },
  {
   "cell_type": "code",
   "execution_count": null,
   "id": "9dda6ccb-154a-4f18-9fdd-f81cfb4a424d",
   "metadata": {},
   "outputs": [],
   "source": [
    "def http_error(status):\n",
    "    match status:\n",
    "        case 400:\n",
    "            return \"Bad request\"\n",
    "        case 404:\n",
    "            return \"Not found\"\n",
    "        case 418:\n",
    "            return \"I'm a teapot\"\n",
    "        case _:\n",
    "            return \"Something's wrong with the internet\""
   ]
  },
  {
   "cell_type": "code",
   "execution_count": null,
   "id": "c25a8dae-5d05-4e0a-88c3-7c95b9cbb9b1",
   "metadata": {},
   "outputs": [],
   "source": [
    "http_error(400)"
   ]
  },
  {
   "cell_type": "code",
   "execution_count": null,
   "id": "6c96df96-bb2d-4dbc-ba7d-471168136c80",
   "metadata": {},
   "outputs": [],
   "source": [
    "http_error(416)"
   ]
  },
  {
   "cell_type": "markdown",
   "id": "18af8ed0-f789-45a5-b5c3-eb1d24a3055c",
   "metadata": {},
   "source": [
    "3. 可以用 | （“或”）将多个字面值组合到一个模式中："
   ]
  },
  {
   "cell_type": "code",
   "execution_count": null,
   "id": "1aa74ea8-6c8e-49a8-af60-5199fb607c51",
   "metadata": {},
   "outputs": [],
   "source": [
    "def http_error(status):\n",
    "    match status:\n",
    "        case 400:\n",
    "            return \"Bad request\"\n",
    "        case 404:\n",
    "            return \"Not found\"\n",
    "        case 418:\n",
    "            return \"I'm a teapot\"\n",
    "        case 401 | 403 | 404:\n",
    "            return \"Not allowed\"\n",
    "        case _:\n",
    "            return \"Something's wrong with the internet\""
   ]
  },
  {
   "cell_type": "code",
   "execution_count": null,
   "id": "2d900ccf-c785-4b35-9540-fe7c21a5c380",
   "metadata": {},
   "outputs": [],
   "source": [
    "http_error(401)"
   ]
  },
  {
   "cell_type": "code",
   "execution_count": null,
   "id": "2a4b677e-e3d9-4074-8d5d-40839dc7072b",
   "metadata": {},
   "outputs": [],
   "source": [
    "def match_point(point):\n",
    "    match point:\n",
    "        case (0, 0):\n",
    "            print(\"Origin\")\n",
    "        case (0, y):\n",
    "            print(f\"Y={y}\")\n",
    "        case (x, 0):\n",
    "            print(f\"X={x}\")\n",
    "        case (x, y):\n",
    "            print(f\"X={x}, Y={y}\")\n",
    "        case _:\n",
    "            print(\"Not a point\")"
   ]
  },
  {
   "cell_type": "code",
   "execution_count": null,
   "id": "698e25f4-ae44-4331-b950-a5929c32cfee",
   "metadata": {},
   "outputs": [],
   "source": [
    "point = (0, 0)\n",
    "match_point(point)"
   ]
  },
  {
   "cell_type": "code",
   "execution_count": null,
   "id": "67da74bc-8249-47bf-b6c6-3af6284f9683",
   "metadata": {},
   "outputs": [],
   "source": [
    "point = (0, 1)\n",
    "match_point(point)"
   ]
  },
  {
   "cell_type": "code",
   "execution_count": null,
   "id": "d2bd9e48-1c58-4ef5-9d1e-33f5a1ef5a75",
   "metadata": {},
   "outputs": [],
   "source": [
    "point = (1, 0)\n",
    "match_point(point)"
   ]
  },
  {
   "cell_type": "code",
   "execution_count": null,
   "id": "5ce46b03-6f4c-4ea1-a627-21a73db0727a",
   "metadata": {},
   "outputs": [],
   "source": [
    "point = (1, 1)\n",
    "match_point(point)"
   ]
  },
  {
   "cell_type": "code",
   "execution_count": null,
   "id": "5a54e6dc-562b-4790-bf88-31f023e08214",
   "metadata": {},
   "outputs": [],
   "source": [
    "point = {}\n",
    "match_point(point)"
   ]
  },
  {
   "cell_type": "code",
   "execution_count": null,
   "id": "0b40cadc-c059-49b1-9fb8-3a16c06af25f",
   "metadata": {},
   "outputs": [],
   "source": [
    "class Point:\n",
    "    def __init__(self, x, y):\n",
    "        self.x = x\n",
    "        self.y =y\n",
    "\n",
    "def where_is(point):\n",
    "    match point:\n",
    "      case Point(x=0, y=0):\n",
    "          print(\"Origin\")  # 匹配原点 (0,0)\n",
    "      case Point(x=0, y=y):\n",
    "          print(f\"Y = {y}\")  # 匹配所有X=0的点除了原点\n",
    "      case Point(x=x, y=0):\n",
    "          print(f\"X = {x}\")  # 匹配所有Y=0的点除了原点\n",
    "      case Point(x=x, y=y):  # 匹配所有Point实例\n",
    "          print(f\"X = {x}, Y = {y}\")\n",
    "      case _:  # 匹配非Point实例\n",
    "          print(\"Not a point\")"
   ]
  },
  {
   "cell_type": "code",
   "execution_count": null,
   "id": "6077881b-58e4-4b1c-adac-2da4f5113e71",
   "metadata": {},
   "outputs": [],
   "source": [
    "origin = Point(0, 0)\n",
    "where_is(origin)"
   ]
  },
  {
   "cell_type": "code",
   "execution_count": null,
   "id": "e62096a2-ecfc-4dcc-92da-bc980610dcb3",
   "metadata": {},
   "outputs": [],
   "source": [
    "x_point = Point(1, 0)\n",
    "where_is(x_point)"
   ]
  },
  {
   "cell_type": "code",
   "execution_count": null,
   "id": "6515bc2e-c19c-43c0-af48-c246274487a0",
   "metadata": {},
   "outputs": [],
   "source": [
    "y_point = Point(0, 1)\n",
    "where_is(y_point)"
   ]
  },
  {
   "cell_type": "code",
   "execution_count": null,
   "id": "65eea21b-b901-420f-ab3f-42b8309b04b3",
   "metadata": {},
   "outputs": [],
   "source": [
    "point = Point(1, 1)\n",
    "where_is(point)"
   ]
  },
  {
   "cell_type": "markdown",
   "id": "7d82ce15-22b6-449b-91a1-1b688277a5a2",
   "metadata": {},
   "source": [
    "4. 模式匹配"
   ]
  },
  {
   "cell_type": "markdown",
   "id": "9815bdf5-a725-46f4-b467-6e5d531d1beb",
   "metadata": {},
   "source": [
    "- 4.1 类模式,匹配实例，等价于 isinstance"
   ]
  },
  {
   "cell_type": "code",
   "execution_count": null,
   "id": "7ebe7532-119d-4056-a153-5f2d6dcafd4f",
   "metadata": {},
   "outputs": [],
   "source": [
    "# 类模式\n",
    "def test_case_1(value):\n",
    "    match value:\n",
    "        case int():\n",
    "            print(f\"匹配 int 成功！匹配到的值是：{value}\")\n",
    "        case str():\n",
    "            print(f\"匹配 str 成功！匹配到的值是：{value}\")\n",
    "        case _:\n",
    "            print(f\"其他数据类型\")"
   ]
  },
  {
   "cell_type": "code",
   "execution_count": null,
   "id": "2943655f-e568-46b7-97a5-217a90e38efc",
   "metadata": {},
   "outputs": [],
   "source": [
    "test_case_1(1)"
   ]
  },
  {
   "cell_type": "code",
   "execution_count": null,
   "id": "1624498f-3f5f-46a6-a2a3-e3e4c6d98781",
   "metadata": {},
   "outputs": [],
   "source": [
    "test_case_1(\"1\")"
   ]
  },
  {
   "cell_type": "markdown",
   "id": "f5c0d8fe-4473-4939-b716-e9fcf1a9639b",
   "metadata": {},
   "source": [
    "- 4.2 值模式，匹配值是否是对象本身"
   ]
  },
  {
   "cell_type": "code",
   "execution_count": null,
   "id": "6f8f99f2-2905-479e-b568-bb5355640207",
   "metadata": {},
   "outputs": [],
   "source": [
    "import builtins\n",
    "\n",
    "def test_case_2(value):\n",
    "    match value:\n",
    "        case builtins.int:\n",
    "            print(f\"匹配是 int 实例: {value}\")\n",
    "        case _:\n",
    "            print(f\"未匹配\")"
   ]
  },
  {
   "cell_type": "code",
   "execution_count": null,
   "id": "2b86d401-79f9-4fd1-8ce3-65a02fa7f6be",
   "metadata": {},
   "outputs": [],
   "source": [
    "test_case_2(int)"
   ]
  },
  {
   "cell_type": "markdown",
   "id": "9e062edd-48b8-4789-9707-1e4802ea9322",
   "metadata": {},
   "source": [
    "- 4.3 捕获模式，永远匹配，在该模式下相当于使用一个变量名将匹配到值赋值给这个变量值"
   ]
  },
  {
   "cell_type": "code",
   "execution_count": null,
   "id": "c8573281-d5d6-4775-8487-983299e26933",
   "metadata": {},
   "outputs": [],
   "source": [
    "def test_case_3(value):\n",
    "    match value:\n",
    "        case int:\n",
    "            print(f\"捕获到 {value} 并赋值 int\")"
   ]
  },
  {
   "cell_type": "code",
   "execution_count": null,
   "id": "7cee6104-991f-4a8c-9966-edd55970c8e4",
   "metadata": {},
   "outputs": [],
   "source": [
    "test_case_3(1)"
   ]
  },
  {
   "cell_type": "markdown",
   "id": "f0c455e7-63f3-402b-be58-eaa56edb02ee",
   "metadata": {},
   "source": [
    "a = int(1)"
   ]
  },
  {
   "cell_type": "markdown",
   "id": "f7ea5c31-289d-45b8-8664-984c7250ef69",
   "metadata": {},
   "source": [
    "- 4.4 序列模式"
   ]
  },
  {
   "cell_type": "code",
   "execution_count": 7,
   "id": "3b56fd37-9179-4602-8480-e8765e2a28a3",
   "metadata": {},
   "outputs": [],
   "source": [
    "def test_case_4(value):\n",
    "    match value:\n",
    "        case [x, y, z]:\n",
    "            print(\"匹配长度为3的列表\")\n",
    "        case (x, y):\n",
    "            print(\"匹配二元组\")\n",
    "        case [x, *rest]:\n",
    "            print(\"匹配至少一个元素的列表\")\n",
    "        case []:\n",
    "            print(\"匹配空列表\")"
   ]
  },
  {
   "cell_type": "code",
   "execution_count": 2,
   "id": "64422dc6-1fec-45b8-b598-bacc1b4365af",
   "metadata": {},
   "outputs": [
    {
     "name": "stdout",
     "output_type": "stream",
     "text": [
      "匹配长度为3的列表\n"
     ]
    }
   ],
   "source": [
    "test_case_4([1, 2, 3])"
   ]
  },
  {
   "cell_type": "code",
   "execution_count": 8,
   "id": "aaa8b005-6eb5-4a51-a5ce-61d8a9db2d9a",
   "metadata": {},
   "outputs": [
    {
     "name": "stdout",
     "output_type": "stream",
     "text": [
      "匹配长度为3的列表\n"
     ]
    }
   ],
   "source": [
    "test_case_4((1, 2, 3))"
   ]
  },
  {
   "cell_type": "code",
   "execution_count": 9,
   "id": "12f8da8d-72b0-4d55-9943-275aa3b818ac",
   "metadata": {},
   "outputs": [
    {
     "name": "stdout",
     "output_type": "stream",
     "text": [
      "匹配二元组\n"
     ]
    }
   ],
   "source": [
    "test_case_4([1, 2])"
   ]
  },
  {
   "cell_type": "code",
   "execution_count": 10,
   "id": "cb202802-5723-46a6-b4b0-000c66d9ce02",
   "metadata": {},
   "outputs": [
    {
     "name": "stdout",
     "output_type": "stream",
     "text": [
      "匹配二元组\n"
     ]
    }
   ],
   "source": [
    "test_case_4((1, 2))"
   ]
  },
  {
   "cell_type": "code",
   "execution_count": 13,
   "id": "a26cd79b-421e-44f3-867a-7f75407cda3b",
   "metadata": {},
   "outputs": [
    {
     "name": "stdout",
     "output_type": "stream",
     "text": [
      "匹配至少一个元素的列表\n"
     ]
    }
   ],
   "source": [
    "test_case_4([1])"
   ]
  },
  {
   "cell_type": "markdown",
   "id": "d0667df5-06d2-4255-843d-16d521abc066",
   "metadata": {},
   "source": [
    "- 4.5 映射模式"
   ]
  },
  {
   "cell_type": "code",
   "execution_count": 21,
   "id": "40dc22d8-2d8a-48e0-a71e-33860da99166",
   "metadata": {},
   "outputs": [],
   "source": [
    "def test_case_5(config):\n",
    "    match config:\n",
    "        case {\"mode\": \"dev\", \"debug\": True}:\n",
    "            print(\"开发模式,开启调试\")\n",
    "        case {\"mode\": \"prod\", \"debug\": False}:\n",
    "            print(\"生产模式,关闭调试\")\n",
    "        case _:\n",
    "            print(\"不支持的模式\")"
   ]
  },
  {
   "cell_type": "code",
   "execution_count": 22,
   "id": "1a3badad-f6f9-4de6-b06c-b85b344e3b27",
   "metadata": {},
   "outputs": [
    {
     "name": "stdout",
     "output_type": "stream",
     "text": [
      "开发模式,开启调试\n"
     ]
    }
   ],
   "source": [
    "test_case_5({\"mode\": \"dev\", \"debug\": True})"
   ]
  },
  {
   "cell_type": "markdown",
   "id": "41398053-6fcf-422b-9f7f-f652cc274fb2",
   "metadata": {},
   "source": [
    "- 4.6 类模式"
   ]
  },
  {
   "cell_type": "code",
   "execution_count": 36,
   "id": "56b2caee-f40d-4060-80e1-1c5e2d75d769",
   "metadata": {},
   "outputs": [],
   "source": [
    "class Person:\n",
    "    # 添加 __match_args__ 用于定义匹配时的参数顺序\n",
    "    __match_args__ = ('name', 'age')\n",
    "    \n",
    "    def __init__(self, name, age):\n",
    "        self.name = name\n",
    "        self.age = age\n",
    "\n",
    "def test_case_6(person):\n",
    "    match person:\n",
    "        case Person(name, age=18):\n",
    "            print(f\"匹配到18岁的年轻人: {name}\")\n",
    "        case Person(name, age=90):\n",
    "            print(f\"匹配到90岁的老年人: {name}\")\n",
    "        case Person(name, age):\n",
    "            print(f\"匹配到{age}岁的普通人: {name}\")\n",
    "        case _:\n",
    "            print(\"不是Person对象\")"
   ]
  },
  {
   "cell_type": "code",
   "execution_count": 39,
   "id": "69e58e38-b3b1-4712-8206-cc85bd8cce9e",
   "metadata": {},
   "outputs": [
    {
     "name": "stdout",
     "output_type": "stream",
     "text": [
      "匹配到18岁的年轻人\n"
     ]
    }
   ],
   "source": [
    "person = Person('geekyous', 18)\n",
    "test_case_6(person)"
   ]
  },
  {
   "cell_type": "markdown",
   "id": "1d90a9c5-9183-4a7c-ab56-14374aed1063",
   "metadata": {},
   "source": [
    "- 4.7 守卫条件"
   ]
  },
  {
   "cell_type": "code",
   "execution_count": 61,
   "id": "ef8fbba8-d421-49ec-884a-58892ac4fbfb",
   "metadata": {},
   "outputs": [],
   "source": [
    "class Person:\n",
    "    __match_args__ = ('name', 'age')\n",
    "\n",
    "    def __init__(self, name, age):\n",
    "        self.name = name\n",
    "        self.age = age\n",
    "\n",
    "def test_case_7(person):\n",
    "    match person:\n",
    "        case Person(name, age) if age >= 18:\n",
    "            print(f\"成年人: {name}, {age}岁\")\n",
    "        case Person(name, age) if 0 < age < 18:\n",
    "            print(f\"未成年人: {name}, {age}岁\")\n",
    "        case Person(_, _):\n",
    "            print(\"年龄非法\")"
   ]
  },
  {
   "cell_type": "code",
   "execution_count": 63,
   "id": "41bb437b-edd4-4ca1-9b3d-949b0be7c074",
   "metadata": {},
   "outputs": [
    {
     "name": "stdout",
     "output_type": "stream",
     "text": [
      "年龄非法\n"
     ]
    }
   ],
   "source": [
    "person = Person('geekyous', -1)\n",
    "test_case_7(person)"
   ]
  }
 ],
 "metadata": {
  "kernelspec": {
   "display_name": "Python 3 (ipykernel)",
   "language": "python",
   "name": "python3"
  },
  "language_info": {
   "codemirror_mode": {
    "name": "ipython",
    "version": 3
   },
   "file_extension": ".py",
   "mimetype": "text/x-python",
   "name": "python",
   "nbconvert_exporter": "python",
   "pygments_lexer": "ipython3",
   "version": "3.12.4"
  }
 },
 "nbformat": 4,
 "nbformat_minor": 5
}
