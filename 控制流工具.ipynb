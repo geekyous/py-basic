{
 "cells": [
  {
   "cell_type": "markdown",
   "id": "9ca0fff0-5a78-41e5-826a-8d5bb6b18bdf",
   "metadata": {},
   "source": [
    "# 更多控制流工具"
   ]
  },
  {
   "cell_type": "markdown",
   "id": "d1938471-bb7e-4843-a1e7-e8fc62fc1c58",
   "metadata": {},
   "source": [
    "## 4.1 if语句"
   ]
  },
  {
   "cell_type": "code",
   "execution_count": 3,
   "id": "797a001e-adf6-4018-a2f1-b9d9a4143ff1",
   "metadata": {},
   "outputs": [
    {
     "name": "stdin",
     "output_type": "stream",
     "text": [
      "Please enter an integer:  555\n"
     ]
    },
    {
     "name": "stdout",
     "output_type": "stream",
     "text": [
      "More\n"
     ]
    }
   ],
   "source": [
    "x = int(input(\"Please enter an integer: \"))\n",
    "\n",
    "if x < 0:\n",
    "    x = 0\n",
    "    print(\"Negative changed to Zero\")\n",
    "elif x == 0:\n",
    "    print(\"Zero\")\n",
    "elif x == 1:\n",
    "    print(\"Single\")\n",
    "else:\n",
    "    print(\"More\")"
   ]
  },
  {
   "cell_type": "markdown",
   "id": "c84a5666-cca2-443f-9b3c-be5c8effb6a7",
   "metadata": {},
   "source": [
    "## 4.2 for 语句"
   ]
  },
  {
   "cell_type": "markdown",
   "id": "eb075a49-553a-4321-97f9-c679844a9ee7",
   "metadata": {},
   "source": [
    "1. 迭代列表"
   ]
  },
  {
   "cell_type": "code",
   "execution_count": 4,
   "id": "fcdd9ae7-86e6-432d-8c1e-725efcd708b0",
   "metadata": {},
   "outputs": [
    {
     "name": "stdout",
     "output_type": "stream",
     "text": [
      "cat 3\n",
      "window 6\n",
      "defenestrate 12\n"
     ]
    }
   ],
   "source": [
    "words = [\"cat\", \"window\", \"defenestrate\"]\n",
    "for w in words:\n",
    "    print(w, len(w))"
   ]
  },
  {
   "cell_type": "markdown",
   "id": "5d6525b3-0d38-48d0-aa23-a900c58c56e7",
   "metadata": {},
   "source": [
    "2. 很难在迭代过程中同时修改内容\n",
    "- 因为这会引发 **迭代器内部状态与序列状态不一致**,python的迭代器基于索引工作,当删除元素时,后续元素的索引会变化,但迭代器不知道这个变化;\n",
    "- 更简单的方法是在迭代的过程中创建被迭代对象的副本或者创建新的对象."
   ]
  },
  {
   "cell_type": "code",
   "execution_count": 12,
   "id": "2e87f237-a04a-4bc6-8875-28e2db4b5c20",
   "metadata": {},
   "outputs": [],
   "source": [
    "users = {\"Hans\": \"active\", \"Éléonore\": \"inactive\", \"景太郎\": \"active\"}"
   ]
  },
  {
   "cell_type": "code",
   "execution_count": 11,
   "id": "0942d7e1-5cc2-4e08-bf6c-684818071333",
   "metadata": {},
   "outputs": [
    {
     "ename": "RuntimeError",
     "evalue": "dictionary changed size during iteration",
     "output_type": "error",
     "traceback": [
      "\u001b[31m---------------------------------------------------------------------------\u001b[39m",
      "\u001b[31mRuntimeError\u001b[39m                              Traceback (most recent call last)",
      "\u001b[36mCell\u001b[39m\u001b[36m \u001b[39m\u001b[32mIn[11]\u001b[39m\u001b[32m, line 1\u001b[39m\n\u001b[32m----> \u001b[39m\u001b[32m1\u001b[39m \u001b[38;5;28;43;01mfor\u001b[39;49;00m\u001b[43m \u001b[49m\u001b[43muser\u001b[49m\u001b[43m,\u001b[49m\u001b[43m \u001b[49m\u001b[43mstatus\u001b[49m\u001b[43m \u001b[49m\u001b[38;5;129;43;01min\u001b[39;49;00m\u001b[43m \u001b[49m\u001b[43musers\u001b[49m\u001b[43m.\u001b[49m\u001b[43mitems\u001b[49m\u001b[43m(\u001b[49m\u001b[43m)\u001b[49m\u001b[43m:\u001b[49m\n\u001b[32m      2\u001b[39m \u001b[43m    \u001b[49m\u001b[38;5;28;43;01mif\u001b[39;49;00m\u001b[43m \u001b[49m\u001b[43mstatus\u001b[49m\u001b[43m \u001b[49m\u001b[43m==\u001b[49m\u001b[43m \u001b[49m\u001b[33;43m\"\u001b[39;49m\u001b[33;43minactive\u001b[39;49m\u001b[33;43m\"\u001b[39;49m\u001b[43m:\u001b[49m\n\u001b[32m      3\u001b[39m \u001b[43m        \u001b[49m\u001b[38;5;28;43;01mdel\u001b[39;49;00m\u001b[43m \u001b[49m\u001b[43musers\u001b[49m\u001b[43m[\u001b[49m\u001b[43muser\u001b[49m\u001b[43m]\u001b[49m\n",
      "\u001b[31mRuntimeError\u001b[39m: dictionary changed size during iteration"
     ]
    }
   ],
   "source": [
    "# 在迭代的同时删除被迭代对象会引发异常\n",
    "\n",
    "for user, status in users.items():\n",
    "    if status == \"inactive\":\n",
    "        del users[user]"
   ]
  },
  {
   "cell_type": "code",
   "execution_count": 13,
   "id": "1a97ad62-65ac-480f-a5f5-b09e8f3da9a2",
   "metadata": {},
   "outputs": [],
   "source": [
    "# 创建一个副本进行迭代\n",
    "for user, status in users.copy().items():\n",
    "    if status == \"inactive\":\n",
    "        del users[user]"
   ]
  },
  {
   "cell_type": "code",
   "execution_count": 14,
   "id": "0aee8a52-ee0a-471e-99bb-59f93544ccc9",
   "metadata": {},
   "outputs": [
    {
     "data": {
      "text/plain": [
       "{'Hans': 'active', '景太郎': 'active'}"
      ]
     },
     "execution_count": 14,
     "metadata": {},
     "output_type": "execute_result"
    }
   ],
   "source": [
    "users"
   ]
  },
  {
   "cell_type": "code",
   "execution_count": 22,
   "id": "8ad04256-6e3e-430c-9498-48df9ddc7176",
   "metadata": {},
   "outputs": [],
   "source": [
    "# 创建一个新的对象\n",
    "active_users = {}\n",
    "for user, status in users.items():\n",
    "    if status == \"active\":\n",
    "        active_users[user] = status"
   ]
  },
  {
   "cell_type": "code",
   "execution_count": 23,
   "id": "f5d948a8-5b2b-440f-b6df-8d0b7431ce2b",
   "metadata": {},
   "outputs": [
    {
     "data": {
      "text/plain": [
       "{'Hans': 'active', '景太郎': 'active'}"
      ]
     },
     "execution_count": 23,
     "metadata": {},
     "output_type": "execute_result"
    }
   ],
   "source": [
    "active_users"
   ]
  },
  {
   "cell_type": "markdown",
   "id": "e19d759e-95b2-44f8-b688-58fcc879110f",
   "metadata": {},
   "source": [
    "## 4.3 range() 函数"
   ]
  },
  {
   "cell_type": "markdown",
   "id": "556e35c9-fdc2-487e-8290-586c43548fa1",
   "metadata": {},
   "source": [
    "1. 内置函数 range() 用于生成等差数列,生成序列不含括给定的终止值"
   ]
  },
  {
   "cell_type": "code",
   "execution_count": 24,
   "id": "fb616a80-f081-4be5-ba32-462a18d359b4",
   "metadata": {},
   "outputs": [
    {
     "name": "stdout",
     "output_type": "stream",
     "text": [
      "0\n",
      "1\n",
      "2\n",
      "3\n",
      "4\n"
     ]
    }
   ],
   "source": [
    "# 输出 0~4\n",
    "for i in range(5):\n",
    "    print(i)"
   ]
  },
  {
   "cell_type": "markdown",
   "id": "4c501066-8c71-4613-9fb7-7e22aa59897c",
   "metadata": {},
   "source": [
    "2. range()可以不从0开始,且可以按给定的步长递增"
   ]
  },
  {
   "cell_type": "code",
   "execution_count": 26,
   "id": "c49ffe63-f08a-4784-8817-c05f47577d8d",
   "metadata": {},
   "outputs": [
    {
     "data": {
      "text/plain": [
       "[5, 6, 7, 8, 9]"
      ]
     },
     "execution_count": 26,
     "metadata": {},
     "output_type": "execute_result"
    }
   ],
   "source": [
    "# 从 5 开始\n",
    "list(range(5, 10))"
   ]
  },
  {
   "cell_type": "code",
   "execution_count": 27,
   "id": "5274e080-e63f-46c2-9039-b6bf5f66936c",
   "metadata": {},
   "outputs": [
    {
     "data": {
      "text/plain": [
       "[0, 3, 6, 9]"
      ]
     },
     "execution_count": 27,
     "metadata": {},
     "output_type": "execute_result"
    }
   ],
   "source": [
    "# 从 0 开始且步长为 3\n",
    "list(range(0, 10, 3))"
   ]
  },
  {
   "cell_type": "code",
   "execution_count": 28,
   "id": "1610d7f1-2cad-4a64-8e37-4f3145a806af",
   "metadata": {},
   "outputs": [
    {
     "data": {
      "text/plain": [
       "[-10, -40, -70]"
      ]
     },
     "execution_count": 28,
     "metadata": {},
     "output_type": "execute_result"
    }
   ],
   "source": [
    "list(range(-10, -100, -30))"
   ]
  },
  {
   "cell_type": "code",
   "execution_count": 31,
   "id": "8468077d-646a-4dce-aff6-cca95c6024de",
   "metadata": {},
   "outputs": [
    {
     "data": {
      "text/plain": [
       "[-10, 20, 50, 80]"
      ]
     },
     "execution_count": 31,
     "metadata": {},
     "output_type": "execute_result"
    }
   ],
   "source": [
    "list(range(-10, 100, 30))"
   ]
  },
  {
   "cell_type": "markdown",
   "id": "75d908c4-6b22-4b7e-801c-15d85d6cadc7",
   "metadata": {},
   "source": [
    "3. 若要按照索引迭代序列,可以组合使用 range() 和 len(),当然使用 enumerate() 函数方便"
   ]
  },
  {
   "cell_type": "code",
   "execution_count": 32,
   "id": "905f6e91-8faa-4147-8c37-a55fc0cc3efd",
   "metadata": {},
   "outputs": [
    {
     "name": "stdout",
     "output_type": "stream",
     "text": [
      "0 Mary\n",
      "1 Had\n",
      "2 a\n",
      "3 little\n",
      "4 lamb\n"
     ]
    }
   ],
   "source": [
    "sentence = [\"Mary\", \"Had\", \"a\", \"little\", \"lamb\"]\n",
    "for i in range(len(sentence)):\n",
    "    print(i, sentence[i])"
   ]
  },
  {
   "cell_type": "code",
   "execution_count": 33,
   "id": "99ba4cb4-00ed-437d-80b8-d0a45eb2e118",
   "metadata": {},
   "outputs": [
    {
     "name": "stdout",
     "output_type": "stream",
     "text": [
      "0 Mary\n",
      "1 Had\n",
      "2 a\n",
      "3 little\n",
      "4 lamb\n"
     ]
    }
   ],
   "source": [
    "for i, word in enumerate(sentence):\n",
    "    print(i, word)"
   ]
  },
  {
   "cell_type": "markdown",
   "id": "9aaab75d-28c1-4d2a-b539-3eeaedb4515c",
   "metadata": {},
   "source": [
    "4. range()只有在被迭代时才会所期望的列表项,并没有真正生成过一个含有全部项的列表,直接输出 range()"
   ]
  },
  {
   "cell_type": "code",
   "execution_count": 34,
   "id": "fa68610f-a29c-4739-b0d1-2ae3876ce830",
   "metadata": {},
   "outputs": [
    {
     "data": {
      "text/plain": [
       "range(0, 10)"
      ]
     },
     "execution_count": 34,
     "metadata": {},
     "output_type": "execute_result"
    }
   ],
   "source": [
    "range(10)"
   ]
  },
  {
   "cell_type": "markdown",
   "id": "214173a0-3c20-4016-b666-0eb96cd16eb8",
   "metadata": {},
   "source": [
    "## 4.4 break 和 continue 语句"
   ]
  },
  {
   "cell_type": "markdown",
   "id": "05aa5fce-a05b-4db8-851b-efb97bb5c889",
   "metadata": {},
   "source": [
    "1. break 语句跳出最近一层的 for 或者 while 循环"
   ]
  },
  {
   "cell_type": "code",
   "execution_count": 42,
   "id": "e88abf52-1ce2-45ec-ba28-1a9e38303cd4",
   "metadata": {},
   "outputs": [
    {
     "name": "stdout",
     "output_type": "stream",
     "text": [
      "0\n",
      "1\n",
      "2\n",
      "3\n",
      "4\n"
     ]
    }
   ],
   "source": [
    "for num in range(10):\n",
    "    if num == 5:\n",
    "        break\n",
    "    print(num)"
   ]
  },
  {
   "cell_type": "code",
   "execution_count": 41,
   "id": "e2c2cd03-4c1a-41d5-9d13-17142883bdf0",
   "metadata": {},
   "outputs": [
    {
     "name": "stdout",
     "output_type": "stream",
     "text": [
      "4 equals 2 * 2\n",
      "6 equals 2 * 3\n",
      "8 equals 2 * 4\n",
      "9 equals 3 * 3\n"
     ]
    }
   ],
   "source": [
    "for n in range(2, 10):\n",
    "    for x in range(2, n):\n",
    "        if n % x == 0:\n",
    "            print(f\"{n} equals {x} * {n//x}\")\n",
    "            break\n",
    "    "
   ]
  },
  {
   "cell_type": "markdown",
   "id": "77208cbf-b1d1-4026-a277-8ca5b34ba6ba",
   "metadata": {},
   "source": [
    "2. continue 语句将继续执行循环的下一次循环"
   ]
  },
  {
   "cell_type": "code",
   "execution_count": 43,
   "id": "0b47759a-e103-4328-bafd-1ab630528b4f",
   "metadata": {},
   "outputs": [
    {
     "name": "stdout",
     "output_type": "stream",
     "text": [
      "0\n",
      "1\n",
      "2\n",
      "3\n",
      "4\n",
      "6\n",
      "7\n",
      "8\n",
      "9\n"
     ]
    }
   ],
   "source": [
    "for num in range(10):\n",
    "    if num == 5:\n",
    "        continue\n",
    "    print(num)"
   ]
  },
  {
   "cell_type": "markdown",
   "id": "57ce610a-e9a4-4c12-8fdb-81a92521e46e",
   "metadata": {},
   "source": [
    "## 4.5 循环的else的语句"
   ]
  },
  {
   "cell_type": "markdown",
   "id": "2e02b5f9-0ab3-4f97-95b2-e16427513971",
   "metadata": {},
   "source": [
    "1. 在 for 或 while 循环中 break 中语句可能 else 语句. 如果循环在未在执行 break 语句情况下结束, else语句将会执行"
   ]
  },
  {
   "cell_type": "code",
   "execution_count": 45,
   "id": "0ff828a2-659f-45ad-aa03-79af889695f9",
   "metadata": {},
   "outputs": [
    {
     "name": "stdout",
     "output_type": "stream",
     "text": [
      "0\n",
      "1\n",
      "2\n",
      "3\n",
      "4\n",
      "5\n",
      "6\n",
      "7\n",
      "8\n"
     ]
    }
   ],
   "source": [
    "for num in range(10):\n",
    "    if num == 10:\n",
    "        break\n",
    "    print(num)\n",
    "else:\n",
    "    print(\"no 10\")"
   ]
  },
  {
   "cell_type": "markdown",
   "id": "48442883-082a-4332-9d6c-aa02a389ef60",
   "metadata": {},
   "source": [
    "## 4.6 pass 语句"
   ]
  },
  {
   "cell_type": "markdown",
   "id": "3eb0cec1-8d4b-4515-a99a-dca5150ae44e",
   "metadata": {},
   "source": [
    "pass 语句不会执行任何动作.语法上需要一个语句,但程序不需要执行任何动作时,可以该语句.例如:"
   ]
  },
  {
   "cell_type": "markdown",
   "id": "62ab4060-265c-4c1c-9f47-04dcd572c7a0",
   "metadata": {},
   "source": [
    "1. 无限等待"
   ]
  },
  {
   "cell_type": "code",
   "execution_count": null,
   "id": "a6217a1e-d490-43b6-885a-720bb32581ce",
   "metadata": {},
   "outputs": [],
   "source": [
    "while True:\n",
    "    pass  # 无限等待键盘中断"
   ]
  },
  {
   "cell_type": "markdown",
   "id": "3e6057e6-7b88-4b4e-8ef3-11b531b13a27",
   "metadata": {},
   "source": [
    "2. 创建一个最小的类"
   ]
  },
  {
   "cell_type": "code",
   "execution_count": null,
   "id": "938b7237-58b3-4885-8090-21425f3ec035",
   "metadata": {},
   "outputs": [],
   "source": [
    "class EmptyClass:\n",
    "    pass"
   ]
  },
  {
   "cell_type": "markdown",
   "id": "1fdc6d52-2664-4278-84c2-626290ccad33",
   "metadata": {},
   "source": [
    "3. 用作函数体或者条件语句的占位符"
   ]
  },
  {
   "cell_type": "code",
   "execution_count": null,
   "id": "3d51b82e-d7fe-4604-9086-1e95c799517c",
   "metadata": {},
   "outputs": [],
   "source": [
    "def init_log(*args):\n",
    "    pass"
   ]
  },
  {
   "cell_type": "markdown",
   "id": "28fcd8fa-1b61-4ee1-bbd1-2c6bcb247673",
   "metadata": {},
   "source": [
    "## 4.7 match 语句"
   ]
  },
  {
   "cell_type": "markdown",
   "id": "c837d08d-e500-42e2-962b-0a5b87513854",
   "metadata": {},
   "source": [
    "1. match 语句接受一个表达式并把它的值与一个或多个 case 块给出的一系列模式进行比较,如果没有 case 匹配成功，则不会执行任何分支。"
   ]
  },
  {
   "cell_type": "markdown",
   "id": "dd7c4efd-5e1e-495b-8a55-9122c1f8ba86",
   "metadata": {},
   "source": [
    "2. “变量名” _ 被作为 通配符 并必定会匹配成功。"
   ]
  },
  {
   "cell_type": "code",
   "execution_count": 46,
   "id": "9dda6ccb-154a-4f18-9fdd-f81cfb4a424d",
   "metadata": {},
   "outputs": [],
   "source": [
    "def http_error(status):\n",
    "    match status:\n",
    "        case 400:\n",
    "            return \"Bad request\"\n",
    "        case 404:\n",
    "            return \"Not found\"\n",
    "        case 418:\n",
    "            return \"I'm a teapot\"\n",
    "        case _:\n",
    "            return \"Something's wrong with the internet\""
   ]
  },
  {
   "cell_type": "code",
   "execution_count": 47,
   "id": "c25a8dae-5d05-4e0a-88c3-7c95b9cbb9b1",
   "metadata": {},
   "outputs": [
    {
     "data": {
      "text/plain": [
       "'Bad request'"
      ]
     },
     "execution_count": 47,
     "metadata": {},
     "output_type": "execute_result"
    }
   ],
   "source": [
    "http_error(400)"
   ]
  },
  {
   "cell_type": "code",
   "execution_count": 49,
   "id": "6c96df96-bb2d-4dbc-ba7d-471168136c80",
   "metadata": {},
   "outputs": [
    {
     "data": {
      "text/plain": [
       "\"Something's wrong with the internet\""
      ]
     },
     "execution_count": 49,
     "metadata": {},
     "output_type": "execute_result"
    }
   ],
   "source": [
    "http_error(416)"
   ]
  },
  {
   "cell_type": "markdown",
   "id": "18af8ed0-f789-45a5-b5c3-eb1d24a3055c",
   "metadata": {},
   "source": [
    "3. 可以用 | （“或”）将多个字面值组合到一个模式中："
   ]
  },
  {
   "cell_type": "code",
   "execution_count": 50,
   "id": "1aa74ea8-6c8e-49a8-af60-5199fb607c51",
   "metadata": {},
   "outputs": [],
   "source": [
    "def http_error(status):\n",
    "    match status:\n",
    "        case 400:\n",
    "            return \"Bad request\"\n",
    "        case 404:\n",
    "            return \"Not found\"\n",
    "        case 418:\n",
    "            return \"I'm a teapot\"\n",
    "        case 401 | 403 | 404:\n",
    "            return \"Not allowed\"\n",
    "        case _:\n",
    "            return \"Something's wrong with the internet\""
   ]
  },
  {
   "cell_type": "code",
   "execution_count": 51,
   "id": "2d900ccf-c785-4b35-9540-fe7c21a5c380",
   "metadata": {},
   "outputs": [
    {
     "data": {
      "text/plain": [
       "'Not allowed'"
      ]
     },
     "execution_count": 51,
     "metadata": {},
     "output_type": "execute_result"
    }
   ],
   "source": [
    "http_error(401)"
   ]
  },
  {
   "cell_type": "code",
   "execution_count": 58,
   "id": "2a4b677e-e3d9-4074-8d5d-40839dc7072b",
   "metadata": {},
   "outputs": [],
   "source": [
    "def match_point(point):\n",
    "    match point:\n",
    "        case (0, 0):\n",
    "            print(\"Origin\")\n",
    "        case (0, y):\n",
    "            print(f\"Y={y}\")\n",
    "        case (x, 0):\n",
    "            print(f\"X={x}\")\n",
    "        case (x, y):\n",
    "            print(f\"X={x}, Y={y}\")\n",
    "        case _:\n",
    "            print(\"Not a point\")"
   ]
  },
  {
   "cell_type": "code",
   "execution_count": 54,
   "id": "698e25f4-ae44-4331-b950-a5929c32cfee",
   "metadata": {},
   "outputs": [
    {
     "name": "stdout",
     "output_type": "stream",
     "text": [
      "Origin\n"
     ]
    }
   ],
   "source": [
    "point = (0, 0)\n",
    "match_point(point)"
   ]
  },
  {
   "cell_type": "code",
   "execution_count": 59,
   "id": "67da74bc-8249-47bf-b6c6-3af6284f9683",
   "metadata": {},
   "outputs": [
    {
     "name": "stdout",
     "output_type": "stream",
     "text": [
      "Y=1\n"
     ]
    }
   ],
   "source": [
    "point = (0, 1)\n",
    "match_point(point)"
   ]
  },
  {
   "cell_type": "code",
   "execution_count": 61,
   "id": "d2bd9e48-1c58-4ef5-9d1e-33f5a1ef5a75",
   "metadata": {},
   "outputs": [
    {
     "name": "stdout",
     "output_type": "stream",
     "text": [
      "X=1\n"
     ]
    }
   ],
   "source": [
    "point = (1, 0)\n",
    "match_point(point)"
   ]
  },
  {
   "cell_type": "code",
   "execution_count": 62,
   "id": "5ce46b03-6f4c-4ea1-a627-21a73db0727a",
   "metadata": {},
   "outputs": [
    {
     "name": "stdout",
     "output_type": "stream",
     "text": [
      "X=1, Y=1\n"
     ]
    }
   ],
   "source": [
    "point = (1, 1)\n",
    "match_point(point)"
   ]
  },
  {
   "cell_type": "code",
   "execution_count": 63,
   "id": "5a54e6dc-562b-4790-bf88-31f023e08214",
   "metadata": {},
   "outputs": [
    {
     "name": "stdout",
     "output_type": "stream",
     "text": [
      "Not a point\n"
     ]
    }
   ],
   "source": [
    "point = {}\n",
    "match_point(point)"
   ]
  }
 ],
 "metadata": {
  "kernelspec": {
   "display_name": "Python 3 (ipykernel)",
   "language": "python",
   "name": "python3"
  },
  "language_info": {
   "codemirror_mode": {
    "name": "ipython",
    "version": 3
   },
   "file_extension": ".py",
   "mimetype": "text/x-python",
   "name": "python",
   "nbconvert_exporter": "python",
   "pygments_lexer": "ipython3",
   "version": "3.12.4"
  }
 },
 "nbformat": 4,
 "nbformat_minor": 5
}
